{
  "cells": [
    {
      "cell_type": "markdown",
      "metadata": {
        "id": "view-in-github",
        "colab_type": "text"
      },
      "source": [
        "<a href=\"https://colab.research.google.com/github/JorgeQuijano-dev/03MIAR-Algoritmos-de-Optimizacion/blob/main/03MIAR_trabajo_practico_AO_JQD.ipynb\" target=\"_parent\"><img src=\"https://colab.research.google.com/assets/colab-badge.svg\" alt=\"Open In Colab\"/></a>"
      ]
    },
    {
      "cell_type": "markdown",
      "metadata": {
        "id": "hVbXYX-RfPWh"
      },
      "source": [
        "# Trabajo práctico Algoritmos de Optimización\n"
      ]
    },
    {
      "cell_type": "markdown",
      "metadata": {
        "id": "46ERICG6dMB-"
      },
      "source": [
        "## Problema 1  Organizar sesiones de doblaje\n",
        "Nombre y Apellidos: Jorge Quijano Díaz  <br>\n",
        "Url: https://github.com/.../03MAIR---Algoritmos-de-Optimizacion---2019/tree/master/SEMINARIO<br>\n",
        "Problema: Problema 1  Organizar sesiones de doblaje\n",
        ">1. Sesiones de doblaje <br>\n",
        "\n",
        "\n",
        "Descripción del problema:\n",
        "\n",
        "Se precisa coordinar el doblaje de una película.\n",
        "\n",
        "- Los actores del doblaje deben coincidir en las tomas en las que sus personajes aparecen juntos en las diferentes tomas.\n",
        "\n",
        "- Los actores de doblaje cobran todos la misma cantidad por cada día que deben desplazarse hasta el estudio de grabación independientemente del número de tomas que se graben.\n",
        "\n",
        "- No es posible grabar más de 6 tomas por día.\n",
        "\n",
        "- Una vez se graba una toma no se vuelve a grabar\n",
        "\n",
        "- Cada toma puede grabarse en como máximo 1 día\n",
        "\n",
        "El objetivo es planificar las sesiones por día de manera que el gasto por los\n",
        "servicios de los actores de doblaje sea el menor posible.\n",
        "\n",
        "Los datos son:\n",
        "Número de actores: 10\n",
        "Número de tomas : 30\n",
        "Actores/Tomas : Tabla https://bit.ly/36D8IuK                                       "
      ]
    },
    {
      "cell_type": "code",
      "execution_count": 1,
      "metadata": {
        "id": "v2W-PBLWAPmw"
      },
      "outputs": [],
      "source": [
        "import random\n",
        "import math\n",
        "import numpy as np\n",
        "# from itertools import combinations\n",
        "from copy import deepcopy\n",
        "import matplotlib.pyplot as plt"
      ]
    },
    {
      "cell_type": "markdown",
      "metadata": {
        "id": "3_-exlrTgLd-"
      },
      "source": [
        "### ¿Cuantas posibilidades hay sin tener en cuenta las restricciones?<br>"
      ]
    },
    {
      "cell_type": "markdown",
      "metadata": {
        "id": "Tl-CRpMhAPmx"
      },
      "source": [
        "Respuesta:\n",
        "\n",
        "Cuando hablamos de posibilidades en este contexto, nos referimos a las diferentes combinaciones o formas en que podemos organizar las tomas en días de trabajo.\n",
        "Si considerando todas las posibles combinaciones de asignación de tomas a los días, desde grabar todo en el mismo día hasta grabar en 30 días distintos, entonces estamos buscando el número de permutaciones de 30 elementos (tomas) en un conjunto de 30 elementos (días).\n",
        "La fórmula para calcular las permutaciones es n!, donde n es el número de elementos. En este caso, sería 30!."
      ]
    },
    {
      "cell_type": "code",
      "execution_count": 2,
      "metadata": {
        "colab": {
          "base_uri": "https://localhost:8080/"
        },
        "id": "YdAuOuGnAPmx",
        "outputId": "5e34aab2-1c05-4cfa-8e66-32424ae114df"
      },
      "outputs": [
        {
          "output_type": "stream",
          "name": "stdout",
          "text": [
            "265252859812191058636308480000000\n"
          ]
        }
      ],
      "source": [
        "# Calcular el factorial de 30\n",
        "permutaciones = math.factorial(30)\n",
        "print(permutaciones)"
      ]
    },
    {
      "cell_type": "markdown",
      "metadata": {
        "id": "hxOuFpPuAPmy"
      },
      "source": [
        "### ¿Cuantas posibilidades hay teniendo en cuenta todas las restricciones?"
      ]
    },
    {
      "cell_type": "markdown",
      "metadata": {
        "id": "6BDiW75CAPmy"
      },
      "source": [
        "Lo que se busca es saber cuántas posibilidades diferentes hay de seleccionar 6 tomas de un grupo de 30, si el orden no importa y no se puede seleccionar la misma toma dos veces, hasta que todas las tomas han sido seleccionadas.\n",
        "\n",
        "Esto se puede calcular usando la fórmula de las combinaciones sin repetición.\n",
        "\n",
        "La fórmula para calcular el número de combinaciones es:\n",
        "\n",
        "$$\\begin{aligned}\n",
        "\\binom{n}{k} = \\frac{n!}{k! \\cdot (n-k)!}\n",
        "\\end{aligned}$$\n",
        "\n",
        "\n",
        "Donde:\n",
        "\n",
        "n es el número total de objetos, en este caso 30 tomas y k es el número de objetos que seleccionamos a la vez, en este caso 6 tomas como máximo al día,\n",
        "\n",
        "\n",
        "Entonces, la primera selección sería $\\binom{30}{6}$.\n",
        "\n",
        "$$\\begin{aligned}\n",
        "\\binom{30}{6} = \\frac{30!}{6! \\cdot (30-6)!} = \\frac{30!}{6! \\cdot 24!} = 593775\n",
        "\\end{aligned}$$\n",
        "\n",
        "Luego, en la siguiente selección, quedarían 24 objetos y seleccionaríamos 6 más.\n",
        "\n",
        "Eso sería $\\binom{24}{6}$\n",
        "\n",
        "$$\\begin{aligned}\n",
        "\\binom{24}{6} = \\frac{24!}{6! \\cdot (24-6)!} = \\frac{24!}{6! \\cdot 18!} = 134596\n",
        "\\end{aligned}$$\n",
        "\n",
        "En la siguiente selección, quedarían 18 objetos y seleccionaríamos 6 más.\n",
        "\n",
        "Eso sería $\\binom{18}{6}$\n",
        "\n",
        "$$\\begin{aligned}\n",
        "\\binom{18}{6} = \\frac{18!}{6! \\cdot (18-6)!} = \\frac{18!}{6! \\cdot 12!} = 18564\n",
        "\\end{aligned}$$\n",
        "\n",
        "En la siguiente selección, quedarían 12 objetos y seleccionaríamos 6 más.\n",
        "\n",
        "Eso sería $\\binom{12}{6}$\n",
        "\n",
        "$$\\begin{aligned}\n",
        "\\binom{12}{6} = \\frac{12!}{6! \\cdot (12-6)!} = \\frac{12!}{6! \\cdot 6!} = 924\n",
        "\\end{aligned}$$\n",
        "\n",
        "En la siguiente selección, quedarían 6 objetos y seleccionaríamos 6 más.\n",
        "\n",
        "Eso sería $\\binom{6}{6}$\n",
        "\n",
        "$$\\begin{aligned}\n",
        "\\binom{6}{6} = \\frac{6!}{6! \\cdot (6-6)!} = \\frac{6!}{6! \\cdot 0!} = 1\n",
        "\\end{aligned}$$\n",
        "\n",
        "Donde al multiplicar todas esas combinaciones se obtiene el total de combinaciones posibles para seleccionar todos los objetos en grupos de 6.\n"
      ]
    },
    {
      "cell_type": "markdown",
      "metadata": {
        "id": "T0Ada3KzAPmy"
      },
      "source": [
        "Código extra: Cálculo posibilidades\n",
        "\n",
        "A modo de representación y con la intención de poder calcular el número de combinaciones posibles ante cualquier valor de n o k se ha creado la función total_combinaciones()."
      ]
    },
    {
      "cell_type": "code",
      "execution_count": 3,
      "metadata": {
        "colab": {
          "base_uri": "https://localhost:8080/"
        },
        "id": "X60CXJzXAPmz",
        "outputId": "7703f14c-66f1-4bcf-85e3-153211101b90"
      },
      "outputs": [
        {
          "output_type": "stream",
          "name": "stdout",
          "text": [
            "Combinaciones del día 1 (30 6)= 593775\n",
            "Combinaciones del día 2 (24 6)= 134596\n",
            "Combinaciones del día 3 (18 6)= 18564\n",
            "Combinaciones del día 4 (12 6)= 924\n",
            "Combinaciones del día 5 (6 6)= 1\n",
            "Total= 593775 * 134596 * 18564 * 924 * 1 = 1370874167589326400\n"
          ]
        }
      ],
      "source": [
        "# Función factorial.\n",
        "def factorial(n):\n",
        "    if n == 0 or n == 1: # Casos base: factorial de 0 y 1 es 1.\n",
        "        return 1\n",
        "    else:\n",
        "        return n * factorial(n - 1) # Caso general: n * factorial(n - 1).\n",
        "\n",
        "# Función de combinaciones.\n",
        "def combinaciones(n, k):\n",
        "    # La fórmula de las combinaciones es n! / [k!(n-k)!].\n",
        "    return factorial(n) // (factorial(k) * factorial(n - k))\n",
        "\n",
        "# Función que calcula el total de combinaciones.\n",
        "def total_combinaciones(n, k):\n",
        "    total = 1 # Inicializa total en 1.\n",
        "    combinaciones_por_dia = [] # Lista para almacenar combinaciones de cada día.\n",
        "    n_valores = list(range(n, 0, -k)) # Lista de los valores de n para cada dia.\n",
        "\n",
        "    # Bucle que va desde 30 hasta 1, reduciendo 6 en cada iteración.\n",
        "    for i in n_valores:\n",
        "        combinacion_dia = combinaciones(i, k) # Calcula combinaciones para esta dia.\n",
        "        combinaciones_por_dia.append(combinacion_dia) # Añadimos a la lista.\n",
        "        total *= combinacion_dia # Actualiza total.\n",
        "\n",
        "    # Imprimir las combinaciones de cada dia.\n",
        "    for i, (n, combinacion) in enumerate(zip(n_valores, combinaciones_por_dia), 1):\n",
        "        print(f\"Combinaciones del día {i} ({n} {k})= {combinacion}\")\n",
        "\n",
        "    # Imprimir el total.\n",
        "    print(\"Total= \" + \" * \".join(str(combi) for combi in combinaciones_por_dia) + f\" = {total}\")\n",
        "\n",
        "n=30\n",
        "k=6\n",
        "total_combinaciones(n,k)"
      ]
    },
    {
      "cell_type": "markdown",
      "metadata": {
        "id": "dzynfVJahHoY"
      },
      "source": [
        "### Modelo para el espacio de soluciones<br>\n",
        "¿Cual es la estructura de datos que mejor se adapta al problema? Argumentalo.(Es posible que hayas elegido una al principio y veas la necesidad de cambiar, arguentalo)\n"
      ]
    },
    {
      "cell_type": "markdown",
      "metadata": {
        "id": "_8Ki7X0uAPmz"
      },
      "source": [
        "Se puede utilizar una matriz para representar las tomas y los actores involucrados en cada una. Cada fila de la matriz representaría una toma, mientras que cada columna representaría a un actor.\n",
        "\n",
        "La matriz se puede implementar como una lista de listas en Python.\n",
        "\n",
        "Cada elemento de la matriz contendría el valor 1 si el actor participa en la toma correspondiente, o el valor 0 en caso contrario.\n",
        "\n",
        "El valor en la posición (i, j) de la matriz indica si el actor j participa en la toma i.\n",
        "\n",
        "Se ha escogido una matriz ya que los datos proporcionados tienen una estructura tabular y permite una representación directa y concisa de estos datos.\n",
        "\n",
        "Con una matriz, es posible acceder rápidamente a los elementos individuales mediante el uso de índices.\n",
        "\n"
      ]
    },
    {
      "cell_type": "code",
      "execution_count": 4,
      "metadata": {
        "id": "38c-7-ejhJmA"
      },
      "outputs": [],
      "source": [
        "tabla_actores = [\n",
        "    [1, 1, 1, 1, 1, 1, 0, 0, 0, 0],\n",
        "    [0, 0, 1, 1, 1, 0, 0, 0, 0, 0],\n",
        "    [0, 1, 0, 0, 1, 0, 1, 0, 0, 0],\n",
        "    [1, 1, 0, 0, 0, 0, 1, 1, 0, 0],\n",
        "    [0, 1, 0, 1, 0, 0, 0, 1, 0, 0],\n",
        "    [1, 1, 0, 1, 1, 0, 0, 0, 0, 0],\n",
        "    [1, 1, 0, 1, 1, 0, 0, 0, 0, 0],\n",
        "    [1, 1, 0, 0, 0, 1, 0, 0, 0, 0],\n",
        "    [1, 1, 0, 1, 0, 0, 0, 0, 0, 0],\n",
        "    [1, 1, 0, 0, 0, 1, 0, 0, 1, 0],\n",
        "    [1, 1, 1, 0, 1, 0, 0, 1, 0, 0],\n",
        "    [1, 1, 1, 1, 0, 1, 0, 0, 0, 0],\n",
        "    [1, 0, 0, 1, 1, 0, 0, 0, 0, 0],\n",
        "    [1, 0, 1, 0, 0, 1, 0, 0, 0, 0],\n",
        "    [1, 1, 0, 0, 0, 0, 1, 0, 0, 0],\n",
        "    [0, 0, 0, 1, 0, 0, 0, 0, 0, 1],\n",
        "    [1, 0, 1, 0, 0, 0, 0, 0, 0, 0],\n",
        "    [0, 0, 1, 0, 0, 1, 0, 0, 0, 0],\n",
        "    [1, 0, 1, 0, 0, 0, 0, 0, 0, 0],\n",
        "    [1, 0, 1, 1, 1, 0, 0, 0, 0, 0],\n",
        "    [0, 0, 0, 0, 0, 1, 0, 1, 0, 0],\n",
        "    [1, 1, 1, 1, 0, 0, 0, 0, 0, 0],\n",
        "    [1, 0, 1, 0, 0, 0, 0, 0, 0, 0],\n",
        "    [0, 0, 1, 0, 0, 1, 0, 0, 0, 0],\n",
        "    [1, 1, 0, 1, 0, 0, 0, 0, 0, 1],\n",
        "    [1, 0, 1, 0, 1, 0, 0, 0, 1, 0],\n",
        "    [0, 0, 0, 1, 1, 0, 0, 0, 0, 0],\n",
        "    [1, 0, 0, 1, 0, 0, 0, 0, 0, 0],\n",
        "    [1, 0, 0, 0, 1, 1, 0, 0, 0, 0],\n",
        "    [1, 0, 0, 1, 0, 0, 0, 0, 0, 0]\n",
        "]"
      ]
    },
    {
      "cell_type": "markdown",
      "metadata": {
        "id": "7Z9U2W7bi-XS"
      },
      "source": [
        "### Según el modelo para el espacio de soluciones<br>"
      ]
    },
    {
      "cell_type": "markdown",
      "metadata": {
        "id": "n5FHsTHlAPm0"
      },
      "source": [
        "#### ¿Cual es la función objetivo?\n",
        "\n",
        "Si asumimos que el costo por día de cada actor de doblaje es el mismo $(C)$, entonces podemos representala función objetivo de la siguiente manera:\n",
        "\n",
        "Sea D el número de días de grabación y $\\ A_i $ el número de actores de doblaje necesarios en el día $\\ i $.\n",
        "\n",
        "La función objetivo sería:\n",
        "\n",
        "$$\\begin{aligned}\n",
        "\\ G = C \\cdot (A_1 + A_2 + \\ldots + A_D)\n",
        "\\end{aligned}$$\n",
        "\n",
        "\n",
        "Donde $\\ A_1, A_2, \\ldots, A_D $ representan la cantidad de actores de doblaje necesarios en cada día de grabación, y $C$ es el costo por día de cada actor.\n",
        "\n",
        "\n",
        "$$\\begin{aligned}\n",
        "\\ G = C \\cdot \\sum_{i=1}^{D} A_i\n",
        "\\end{aligned}$$\n",
        "\n",
        "\n",
        "En esta expresión, estamos sumando el número de actores de doblaje necesarios en cada día de grabación, y luego multiplicamos el resultado por el costo por día de cada actor $(C)$ para obtener el gasto total $(G)$.\n",
        "\n",
        "En adelante no se tendrá en cuenta el costo por día del actor (C) en cuanto al problema de optimización ya que se tendrá en cuenta que todos cobran lo mismo y se indicará el número de actores que intervienen cada día.  \n",
        "\n",
        "\n"
      ]
    },
    {
      "cell_type": "markdown",
      "metadata": {
        "id": "w0INHcQQAPm0"
      },
      "source": [
        "#### ¿Es un problema de maximización o minimización?"
      ]
    },
    {
      "cell_type": "markdown",
      "metadata": {
        "id": "U7ujLdFoAPm0"
      },
      "source": [
        "\n",
        "Este es un problema de minimización.\n",
        "\n",
        "Se trata de minimizar la cantidad total de días que los actores necesitan para desplazarse al estudio de grabación para doblar todas las tomas de la película.\n",
        "\n",
        "Para lograr esto, se necesita organizar las tomas de tal manera que se maximice la cantidad de tomas que cada actor puede doblar en cada uno de sus días de trabajo, sin superar el límite de 6 tomas por día.\n",
        "En definitiva, se está tratando de minimizar la cantidad total de días de trabajo.\n"
      ]
    },
    {
      "cell_type": "markdown",
      "metadata": {
        "id": "rlnTYgY1j6I2"
      },
      "source": [
        "### Diseña un algoritmo para resolver el problema por fuerza bruta\n"
      ]
    },
    {
      "cell_type": "markdown",
      "metadata": {
        "id": "VhAXkFCEAPm0"
      },
      "source": [
        "#### Planteamiento Fuerza Bruta\n",
        "El enfoque de fuerza bruta puede ser bastante costoso en términos de tiempo de cómputo, las restoricciones del problema ayudan a reducir el número de combinaciones que necesitan ser consideradas. Sin embargo,  para un problema de la escala proporcionada, el enfoque de fuerza bruta todavía puede llevar un tiempo extremadamente largo para ejecutarse.\n",
        "\n",
        "Un enfoque de búsqueda exhaustiva o fuerza bruta se puede hacer generando cada una de las combinaciones posibles de tomas que se pueden filmar en un día y luego calculando la cantidad de actores usados en cada una de las ellas.\n",
        "\n",
        "Para cada conjunto de tomas posible, se verifica si el total acumulado de actores usados es menor que el mínimo encontrado hasta el momento, y si es así, se actualiza el mínimo y guarda esta combinación de tomas como la mejor encontrada hasta el momento.\n",
        "\n",
        "Este enfoque garantiza encontrar la solución óptima porque evalúa todas las combinaciones posibles, por lo que eventualmente encontrará la combinación que utiliza la menor cantidad de actores. Sin embargo, no es eficiente, ya que el número de combinaciones a evaluar es enorme y crece exponencialmente con el número de tomas.\n",
        "\n",
        "Se ha valorado usar el módulo intertools de la biblioteca estándar de Python ya que proporciona diversas funciones para crear y manipular iteradores eficientemente. Un ejemplo es \"combinations\", una de las funciones más comunes del módulo itertools que genera todas las combinaciones posibles de elementos de una secuencia.\n",
        "Se ha descartado la opción ya que mediante una función como obtener_combinaciones se representa mejor el coste computacional del problema."
      ]
    },
    {
      "cell_type": "code",
      "execution_count": 5,
      "metadata": {
        "id": "0e25qTG2APm0"
      },
      "outputs": [],
      "source": [
        "# Función calcular_actores toma una lista de tomas y una tabla de actores\n",
        "# y devuelve el número de actores únicos presentes en esas tomas.\n",
        "def calcular_actores(tomas, tabla_actores):\n",
        "    actores = set()  # Utiliza un conjunto para almacenar los actores únicos\n",
        "    for toma in tomas:\n",
        "        for i, actor in enumerate(tabla_actores[toma]):\n",
        "            if actor == 1:\n",
        "                actores.add(i)  # Agrega el índice del actor al conjunto\n",
        "    return len(actores)  # Se devuelve la cantidad de actores únicos\n",
        "\n",
        "mejor_total = float('inf')  # Variable global para rastrear el mejor total de actores\n",
        "mejor_tomas = None  # Variable global para rastrear las mejores tomas seleccionadas\n",
        "\n",
        "# Función obtener_combinaciones devuelve todas las combinaciones posibles\n",
        "# de k elementos de una lista de tomas utilizando recursión.\n",
        "def obtener_combinaciones(tomas, k):\n",
        "    if k == 0:\n",
        "        return [[]]  # Caso base: lista vacía\n",
        "    if len(tomas) == 0:\n",
        "        return []  # Caso base: no hay más tomas\n",
        "    result = []  # Lista para almacenar las combinaciones\n",
        "    primera = tomas[0]  # Primera toma de la lista\n",
        "    resto = tomas[1:]  # Resto de las tomas\n",
        "    # Recursivamente obtenemos las combinaciones con k-1 elementos\n",
        "    # y las concatenamos con la primera toma.\n",
        "    for comb in obtener_combinaciones(resto, k - 1):\n",
        "        result.append([primera] + comb)\n",
        "    # Recursivamente obtenemos las combinaciones sin incluir la primera toma.\n",
        "    result.extend(obtener_combinaciones(resto, k))\n",
        "    return result\n",
        "\n",
        "# La función procesar_tomas realiza el procesamiento principal para encontrar\n",
        "# las mejores combinaciones de tomas que contengan la menor cantidad de actores.\n",
        "def procesar_tomas(tomas_restantes, tomas_seleccionadas, total_actores, tabla_actores):\n",
        "    global mejor_total  # Accedemos a la variable global mejor_total\n",
        "    global mejor_tomas  # Accedemos a la variable global mejor_tomas\n",
        "\n",
        "    if not tomas_restantes:  # Si no hay más tomas restantes\n",
        "        if total_actores < mejor_total:\n",
        "            # Si el total de actores es menor que el mejor total actual,\n",
        "            # actualizamos las variables mejor_total y mejor_tomas.\n",
        "            mejor_total = total_actores\n",
        "            mejor_tomas = tomas_seleccionadas\n",
        "            # Imprimimos la mejor combinación de tomas encontrada hasta ahora.\n",
        "            print(\"El menor número de desplazamientos al estudio de actores hasta ahora:\", mejor_total)\n",
        "            print(\"Tomas seleccionadas:\", [[toma + 1 for toma in tomas] for tomas in mejor_tomas])\n",
        "        return\n",
        "\n",
        "    # Obtenemos todas las combinaciones posibles de 6 tomas restantes.\n",
        "    combinaciones_tomas = obtener_combinaciones(tomas_restantes, 6)\n",
        "\n",
        "    # Itera sobre las combinaciones de tomas.\n",
        "    for tomas in combinaciones_tomas:\n",
        "        # Calcula la cantidad de actores en la combinación actual.\n",
        "        actores = calcular_actores(tomas, tabla_actores)\n",
        "        # Actualiza las variables para la próxima llamada recursiva.\n",
        "        nuevas_tomas_seleccionadas = tomas_seleccionadas + [tomas]\n",
        "        nuevos_total_actores = total_actores + actores\n",
        "\n",
        "        # Genera la lista de tomas restantes sin las tomas seleccionadas.\n",
        "        nuevas_tomas_restantes = [toma for toma in tomas_restantes if toma not in tomas]\n",
        "\n",
        "        # Realiza una llamada recursiva con las nuevas tomas seleccionadas y restantes.\n",
        "        procesar_tomas(nuevas_tomas_restantes, nuevas_tomas_seleccionadas, nuevos_total_actores, tabla_actores)\n",
        "\n"
      ]
    },
    {
      "cell_type": "code",
      "execution_count": 6,
      "metadata": {
        "colab": {
          "base_uri": "https://localhost:8080/"
        },
        "id": "s-GYftpYw993",
        "outputId": "e79007c1-74e3-40dd-b5f1-6c0eb78e5fb8"
      },
      "outputs": [
        {
          "output_type": "stream",
          "name": "stdout",
          "text": [
            "El menor número de desplazamientos al estudio de actores hasta ahora: 39\n",
            "Tomas seleccionadas: [[1, 2, 3, 4, 5, 6], [7, 8, 9, 10, 11, 12], [13, 14, 15, 16, 17, 18], [19, 20, 21, 22, 23, 24], [25, 26, 27, 28, 29, 30]]\n",
            "El menor número de desplazamientos al estudio de actores hasta ahora: 38\n",
            "Tomas seleccionadas: [[1, 2, 3, 4, 5, 6], [7, 8, 9, 10, 11, 12], [13, 14, 15, 16, 17, 18], [19, 20, 21, 22, 23, 25], [24, 26, 27, 28, 29, 30]]\n",
            "El menor número de desplazamientos al estudio de actores hasta ahora: 37\n",
            "Tomas seleccionadas: [[1, 2, 3, 4, 5, 6], [7, 8, 9, 10, 11, 12], [13, 14, 15, 16, 17, 18], [19, 20, 21, 23, 24, 29], [22, 25, 26, 27, 28, 30]]\n",
            "El menor número de desplazamientos al estudio de actores hasta ahora: 36\n",
            "Tomas seleccionadas: [[1, 2, 3, 4, 5, 6], [7, 8, 9, 10, 11, 12], [13, 14, 15, 16, 17, 18], [19, 21, 23, 24, 26, 29], [20, 22, 25, 27, 28, 30]]\n",
            "El menor número de desplazamientos al estudio de actores hasta ahora: 35\n",
            "Tomas seleccionadas: [[1, 2, 3, 4, 5, 6], [7, 8, 9, 10, 11, 12], [13, 14, 15, 16, 17, 25], [18, 19, 21, 23, 24, 29], [20, 22, 26, 27, 28, 30]]\n",
            "El menor número de desplazamientos al estudio de actores hasta ahora: 34\n",
            "Tomas seleccionadas: [[1, 2, 3, 4, 5, 6], [7, 8, 9, 10, 11, 12], [13, 14, 15, 16, 22, 25], [17, 18, 19, 21, 23, 24], [20, 26, 27, 28, 29, 30]]\n",
            "El menor número de desplazamientos al estudio de actores hasta ahora: 33\n",
            "Tomas seleccionadas: [[1, 2, 3, 4, 5, 6], [7, 8, 9, 10, 11, 12], [13, 14, 17, 18, 20, 27], [15, 16, 22, 25, 28, 30], [19, 21, 23, 24, 26, 29]]\n",
            "El menor número de desplazamientos al estudio de actores hasta ahora: 32\n",
            "Tomas seleccionadas: [[1, 2, 3, 4, 5, 6], [7, 8, 9, 10, 11, 12], [13, 14, 20, 26, 27, 29], [15, 16, 22, 25, 28, 30], [17, 18, 19, 21, 23, 24]]\n",
            "Búsqueda interrumpida.\n"
          ]
        }
      ],
      "source": [
        "try:\n",
        "    procesar_tomas(list(range(30)), [], 0, tabla_actores)\n",
        "except KeyboardInterrupt:\n",
        "    print(\"Búsqueda interrumpida.\")"
      ]
    },
    {
      "cell_type": "markdown",
      "metadata": {
        "id": "tgrnsC2nkFa8"
      },
      "source": [
        "### Calcula la complejidad del algoritmo por fuerza bruta"
      ]
    },
    {
      "cell_type": "markdown",
      "metadata": {
        "id": "Ku4bQpX6APm1"
      },
      "source": [
        "Respuesta\n",
        "\n",
        "\n",
        "El costo total se calcula sumando los costos de calcular las combinaciones de tomas y los costos de calcular la cantidad de actores en cada combinación, además de las comparaciones y asignaciones adicionales en cada combinación.\n",
        "\n",
        "\n",
        "\n",
        "El costo que surge de sumar los actores en cada combinación de tomas seleccionada y la comparación y asignación para verificar si el total de actores es menor que el mejor total registrado tienen una complejidad constante, ya que solo se realiza una vez en cada nivel de recursión.\n",
        "\n",
        "Por lo tanto, en la práctica, podríamos simplificarlo a:\n",
        "$$\\begin{aligned}\n",
        "O(\\binom{30}{6} \\cdot \\binom{24}{6} \\cdot \\binom{18}{6} \\cdot \\binom{12}{6} \\cdot \\binom{6}{6}* C)\n",
        "\\end{aligned}$$\n",
        "\n",
        "\n",
        "Al calcular la complejidad del algoritmo generalmente queremos simplificarlo y que se pueda entender en cualquier tamaño de datos.\n",
        "\n",
        "Por lo que para facilitar el entendimiento de la complejidad se va a sustituir el número de tomas por $T$ y el máximo de tomas al día por $M$.\n",
        "\n",
        "Cuando $T$ tiende a infinito, se pueden eliminar los términos más pequeños y las constantes. Por lo tanto, podríamos simplificarlo a:\n",
        "\n",
        "$$\\begin{aligned}\n",
        "O\\left(\\prod_{i=0}^{\\lfloor T/M \\rfloor}\\binom{T-iM}{M} \\right)\n",
        "\\end{aligned}$$\n",
        "\n",
        "En ese caso, si $T$ representa el número total de tomas de rodaje y $M$ es el máximo de tomas que se pueden grabar en un día, la expresión puede simplificarse aún más bajo ciertas condiciones.\n",
        "\n",
        "Si $M$ es constante y no depende de $T$ (es decir, el número máximo de tomas que se pueden grabar en un día es siempre el mismo independientemente del número total de tomas), el orden depende en gran medida del tamaño de la entrada que en este caso son las tomas.\n",
        "\n",
        "\n"
      ]
    },
    {
      "cell_type": "markdown",
      "metadata": {
        "id": "txbrmLmskReM"
      },
      "source": [
        "### Diseña un algoritmo que mejore la complejidad del algortimo por fuerza bruta. Argumenta porque crees que mejora el algoritmo por fuerza bruta"
      ]
    },
    {
      "cell_type": "markdown",
      "metadata": {
        "id": "hLrVwt5QkZPD"
      },
      "source": [
        "El problema implica una asignación combinatoria de las tomas a los días, lo que da lugar a un espacio de búsqueda muy grande, ya que hay muchas posibles combinaciones y permutaciones de tomas y días.\n",
        "\n",
        "Además, encontrar la asignación óptima que minimice el gasto total es un problema NP, lo que significa que no existe un algoritmo eficiente para resolverlo en tiempo polinomial.\n",
        "\n",
        "Recorrer todo el espacio de posibilidades no es práctico cuando es demasiado grande, por este motivo podemos descartar los algoritmos de búsqueda exhaustiva.\n",
        "\n",
        "Para afrontar el problema se ha optado por intentar dos propuestas más óptimas que el método exhaustivo o fuerza bruta para luego comparar resultados.\n",
        "\n",
        "Las dos opciones que se van a desarrollar son:\n",
        "- Greedy\n",
        "- Recocido simulado\n",
        "\n",
        "A lo largo del trabajo se irán exponiendo sus fuertes y debilidades.\n"
      ]
    },
    {
      "cell_type": "markdown",
      "metadata": {
        "id": "ukYrdVHNAPm1"
      },
      "source": [
        "#### Optimización Greedy:\n",
        "\n",
        "Es una técnica de búsqueda que consiste en tomar decisiones en función de la información disponible en cada momento. En cada paso local, se elige la opción óptima con la esperanza de llegar a una solución general óptima.\n",
        "\n",
        "No requieren un tiempo de ejecución largo y complejo, además, son rápidas y eficientes y pueden proporcionar soluciones cercanas a la óptima en muchos casos.\n",
        "\n",
        "Por otra parte, pueden quedar atrapadas en soluciones subóptimas debido a la naturaleza constructiva y la falta de retrospectiva. Por ello se puede decir que no garantizan encontrar la mejor solución en todos los casos.\n",
        "\n",
        "Para el método Greedy se han seguido los siguientes pasos:\n",
        "\n",
        "- Se obtiene el número de tomas y el número de actores en la película.\n",
        "\n",
        "- Se inicializa la asignación de tomas a días con una lista vacía.\n",
        "\n",
        "- Las tomas se ordenan en función de la cantidad de actores presentes en cada una. Esto se logra utilizando la función sorted y especificando una función lambda que calcula la suma de los actores presentes en una toma.\n",
        "\n",
        "- Se asignan las tomas a días en orden descendente de actores presentes. Se recorren las tomas ordenadas y se intenta asignar cada una a un día existente que tenga capacidad y no presente conflictos de actores. Si no es posible asignar la toma a un día existente, se crea un nuevo día y se asigna la toma a ese día.\n"
      ]
    },
    {
      "cell_type": "code",
      "execution_count": 7,
      "metadata": {
        "id": "ky5ZxGFpAPm1"
      },
      "outputs": [],
      "source": [
        "tabla_actores_np = np.array(tabla_actores)\n",
        "num_tomas = len(tabla_actores_np)\n",
        "num_actores = len(tabla_actores_np[0])\n",
        "def coordinar_doblaje(tabla_actores_np):\n",
        "\n",
        "\n",
        "    # Inicializa la asignación de tomas a días\n",
        "    asignacion = [[]]\n",
        "\n",
        "    # Ordena las tomas por la cantidad de actores presentes, La función lambda se utiliza como\n",
        "    # criterio de ordenamiento para la función sorted, lo que permite ordenar las tomas en función\n",
        "    # de la cantidad de actores presentes en cada una.\n",
        "    sorted_tomas = sorted(range(num_tomas), key=lambda x: -np.sum(tabla_actores_np[x]))\n",
        "\n",
        "    # Asigna las tomas a días en orden descendente de actores presentes\n",
        "    for toma in sorted_tomas:\n",
        "        assigned = False\n",
        "        for day in asignacion:\n",
        "            if len(day) + 1 <= 6 and not any(tabla_actores_np[toma][actor] and actor + 1 in day for actor in range(num_actores)):\n",
        "                day.append(toma)\n",
        "                assigned = True\n",
        "                break\n",
        "        if not assigned:\n",
        "            asignacion.append([toma])\n",
        "\n",
        "    # Calcula el costo total de los actores que van al estudio en todas las sesiones\n",
        "    coste_total = sum(len(set([actor + 1 for toma in day for actor in range(num_actores) if tabla_actores_np[toma][actor] == 1])) for day in asignacion)\n",
        "\n",
        "    for i, day in enumerate(asignacion):\n",
        "        print(f\"El día {i + 1} se graban las tomas: {', '.join(map(str, [toma + 1 for toma in day]))}\")\n",
        "        actores_presentes = set()\n",
        "        for toma in day:\n",
        "            actores_toma = [j + 1 for j in range(len(tabla_actores_np[toma])) if tabla_actores_np[toma][j] == 1]\n",
        "            actores_presentes.update(actores_toma)\n",
        "        print(f\"Haciendo que vayan al estudio los actores: {', '.join(map(str, actores_presentes))}\")\n",
        "        print()\n",
        "\n",
        "    print(f\"El costo total de los actores que van al estudio en todas las sesiones es: {coste_total}\")\n",
        "    return asignacion, coste_total\n"
      ]
    },
    {
      "cell_type": "code",
      "execution_count": 8,
      "metadata": {
        "colab": {
          "base_uri": "https://localhost:8080/"
        },
        "id": "dt_keeQxAPm2",
        "outputId": "b8544879-814a-4d9b-8e64-eccda9fb4aa7"
      },
      "outputs": [
        {
          "output_type": "stream",
          "name": "stdout",
          "text": [
            "El día 1 se graban las tomas: 1, 11, 12, 4, 6, 10\n",
            "Haciendo que vayan al estudio los actores: 1, 2, 3, 4, 5, 6, 7, 8, 9\n",
            "\n",
            "El día 2 se graban las tomas: 7, 20, 22, 25, 26, 2\n",
            "Haciendo que vayan al estudio los actores: 1, 2, 3, 4, 5, 9, 10\n",
            "\n",
            "El día 3 se graban las tomas: 3, 13, 14, 29, 16, 17\n",
            "Haciendo que vayan al estudio los actores: 1, 2, 3, 4, 5, 6, 7, 10\n",
            "\n",
            "El día 4 se graban las tomas: 5, 8, 18, 19, 21, 23\n",
            "Haciendo que vayan al estudio los actores: 1, 2, 3, 4, 6, 8\n",
            "\n",
            "El día 5 se graban las tomas: 9, 15, 24, 27, 28, 30\n",
            "Haciendo que vayan al estudio los actores: 1, 2, 3, 4, 5, 6, 7\n",
            "\n",
            "El costo total de los actores que van al estudio en todas las sesiones es: 37\n"
          ]
        }
      ],
      "source": [
        "# Obtiene la asignación de tomas a días\n",
        "asignacion,coste_total = coordinar_doblaje(tabla_actores_np)"
      ]
    },
    {
      "cell_type": "markdown",
      "metadata": {
        "id": "eGDB4K6uk1iN"
      },
      "source": [
        "##### (*)Calcula la complejidad del algoritmo"
      ]
    },
    {
      "cell_type": "markdown",
      "metadata": {
        "id": "qOU019OcAPm2"
      },
      "source": [
        "Respuesta\n",
        "\n",
        "- Inicializar la asignación de tomas a días: Esta operación tiene una complejidad de $(1)$.\n",
        "\n",
        "- Ordenar las tomas: En general, el algoritmo de ordenación utilizado en Python es el algoritmo \"Timsort\", que tiene una complejidad promedio de $O(n \\log n)$, donde $n$ es el número de elementos a ordenar.\n",
        "\n",
        "- Asignar las tomas a días: Para cada toma, el algoritmo verifica si la toma puede ser asignada a un día existente. La asignación de las tomas a días puede requerir revisar todos los días existentes para cada toma, lo que implica una complejidad de $(n \\cdot \\text{ numero de dias})$. Sin embargo, en el peor caso, el número de días podría ser igual al número de tomas $n$, lo que resultaría en una complejidad de $(n \\cdot n)$ o simplemente $(n^2)$.\n",
        "\n",
        "- Calcular el costo total: Se calcula la suma de los actores presentes en cada día. En el peor caso, esto puede requerir revisar todos los actores para cada toma en cada día, lo que llevaría a una complejidad de $(n \\cdot m)$.\n",
        "\n",
        "- Impresión de resultados: Similar al cálculo del costo total, este paso tiene una complejidad de $(n \\cdot m)$.\n",
        "\n",
        "Por lo tanto, la complejidad total del algoritmo sería $O(n^2)$ en el peor caso, a la asignación de tomas a días, que es el paso más costoso.\n",
        "\n",
        "Este análisis será cierto siempre que el número de tomas $n$ sea el factor dominante."
      ]
    },
    {
      "cell_type": "markdown",
      "metadata": {
        "id": "3M6QjTsSkmYe"
      },
      "source": [
        "##### Según el problema (y tenga sentido), diseña un juego de datos de entrada aleatorios"
      ]
    },
    {
      "cell_type": "markdown",
      "metadata": {
        "id": "Jc3_OlyNkvjZ"
      },
      "source": [
        "Respuesta"
      ]
    },
    {
      "cell_type": "code",
      "execution_count": 9,
      "metadata": {
        "colab": {
          "base_uri": "https://localhost:8080/"
        },
        "id": "sJ-N2etjkyWc",
        "outputId": "ff891ba1-9850-4fa5-e40e-5ffb245f4b0a"
      },
      "outputs": [
        {
          "output_type": "stream",
          "name": "stdout",
          "text": [
            "[[0 0 1 0 1 1 1 1 0 0]\n",
            " [1 0 1 1 0 1 1 0 0 1]\n",
            " [0 0 0 0 1 0 1 0 0 1]\n",
            " [1 0 1 0 0 1 1 0 1 0]\n",
            " [0 1 0 1 1 0 1 1 1 1]\n",
            " [0 1 0 1 1 0 1 1 0 1]\n",
            " [0 0 1 1 1 0 1 0 1 1]\n",
            " [0 0 0 0 0 0 1 1 1 1]\n",
            " [1 0 1 0 0 1 0 1 1 0]\n",
            " [1 1 1 1 1 0 1 1 0 0]\n",
            " [0 0 0 1 0 0 0 0 1 0]\n",
            " [1 0 1 0 0 1 1 0 0 0]\n",
            " [1 0 1 1 1 1 1 1 0 0]\n",
            " [1 1 1 1 0 1 0 1 0 1]\n",
            " [0 0 0 1 0 0 0 1 1 0]\n",
            " [1 0 0 1 1 1 0 1 0 0]\n",
            " [0 1 0 0 1 1 0 1 1 0]\n",
            " [0 0 0 1 0 0 1 0 1 0]\n",
            " [0 1 0 1 0 1 1 1 0 1]\n",
            " [1 1 0 0 0 1 0 1 1 0]\n",
            " [1 0 1 1 1 0 0 0 0 0]\n",
            " [0 0 0 1 1 1 1 1 1 0]\n",
            " [1 0 1 0 0 1 0 1 0 1]\n",
            " [0 0 1 0 1 0 0 0 1 1]\n",
            " [1 0 1 1 0 0 1 0 0 0]\n",
            " [1 0 0 0 0 1 0 0 1 0]\n",
            " [0 0 0 1 1 1 1 1 1 0]\n",
            " [0 1 0 0 0 1 1 1 1 1]\n",
            " [1 0 0 1 1 0 1 0 1 1]\n",
            " [1 0 0 1 0 0 1 0 1 0]]\n"
          ]
        }
      ],
      "source": [
        "filas = 30  # Número de filas\n",
        "columnas = 10  # Número de columnas\n",
        "\n",
        "# Fija la semilla para obtener el mismo resultado cada vez\n",
        "random.seed(1)\n",
        "\n",
        "tabla_actores_aleatoria = [[random.randint(0, 1) for _ in range(columnas)] for _ in range(filas)]\n",
        "\n",
        "# Convierte la tabla a np.array\n",
        "tabla_act_aleatoria_np = np.array(tabla_actores_aleatoria)\n",
        "\n",
        "# Imprime la tabla_act_aleatoria_np generada\n",
        "print(tabla_act_aleatoria_np)"
      ]
    },
    {
      "cell_type": "markdown",
      "metadata": {
        "id": "zy5ZROmjlGo1"
      },
      "source": [
        "##### Aplica el algoritmo al juego de datos generado"
      ]
    },
    {
      "cell_type": "markdown",
      "metadata": {
        "id": "_Cmj-PVylMsa"
      },
      "source": [
        "Respuesta"
      ]
    },
    {
      "cell_type": "code",
      "execution_count": 10,
      "metadata": {
        "colab": {
          "base_uri": "https://localhost:8080/"
        },
        "id": "Jkx8GeiYlUz1",
        "outputId": "f2fa769f-7400-4d40-cff4-543f184733f6"
      },
      "outputs": [
        {
          "output_type": "stream",
          "name": "stdout",
          "text": [
            "El día 1 se graban las tomas: 5, 28, 1, 4, 17, 20\n",
            "Haciendo que vayan al estudio los actores: 1, 2, 3, 4, 5, 6, 7, 8, 9, 10\n",
            "\n",
            "El día 2 se graban las tomas: 10, 13, 14, 2, 6, 19\n",
            "Haciendo que vayan al estudio los actores: 1, 2, 3, 4, 5, 6, 7, 8, 10\n",
            "\n",
            "El día 3 se graban las tomas: 7, 29, 8, 21, 24, 15\n",
            "Haciendo que vayan al estudio los actores: 1, 3, 4, 5, 7, 8, 9, 10\n",
            "\n",
            "El día 4 se graban las tomas: 22, 27, 9, 12, 25, 30\n",
            "Haciendo que vayan al estudio los actores: 1, 3, 4, 5, 6, 7, 8, 9\n",
            "\n",
            "El día 5 se graban las tomas: 16, 23, 3, 18, 26, 11\n",
            "Haciendo que vayan al estudio los actores: 1, 3, 4, 5, 6, 7, 8, 9, 10\n",
            "\n",
            "El costo total de los actores que van al estudio en todas las sesiones es: 44\n"
          ]
        }
      ],
      "source": [
        "asignacion_aleatoria,coste_total_aleatoria = coordinar_doblaje(tabla_act_aleatoria_np)"
      ]
    },
    {
      "cell_type": "markdown",
      "metadata": {
        "id": "yGhXUcH-APm3"
      },
      "source": [
        "Comprobación de resultado (extra)"
      ]
    },
    {
      "cell_type": "code",
      "execution_count": 11,
      "metadata": {
        "id": "B2vXKFj4APm6"
      },
      "outputs": [],
      "source": [
        "def comprobar_resultado(asignacion, tabla_actores_np):\n",
        "    num_actores = len(tabla_actores_np[0])\n",
        "\n",
        "    coste_total = sum(len(set([actor + 1 for toma in day for actor in range(num_actores) if tabla_actores_np[toma][actor] == 1])) for day in asignacion)\n",
        "\n",
        "    return coste_total"
      ]
    },
    {
      "cell_type": "code",
      "execution_count": 12,
      "metadata": {
        "colab": {
          "base_uri": "https://localhost:8080/"
        },
        "id": "MMmZUTAuAPm6",
        "outputId": "6c77b55f-464a-432c-9ed9-c74a21d22279"
      },
      "outputs": [
        {
          "output_type": "stream",
          "name": "stdout",
          "text": [
            "El resultado es válido.\n"
          ]
        }
      ],
      "source": [
        "\n",
        "# Llama a la función comprobar_resultado\n",
        "comprobacion_coste_total = comprobar_resultado(asignacion_aleatoria, tabla_act_aleatoria_np)\n",
        "\n",
        "# Imprime el resultado de la comprobación\n",
        "if comprobacion_coste_total== coste_total_aleatoria :\n",
        "    print(\"El resultado es válido.\")\n",
        "else:\n",
        "    print(\"El resultado es válido.\")"
      ]
    },
    {
      "cell_type": "markdown",
      "metadata": {
        "id": "fIncc7RbAPm7"
      },
      "source": [
        "#### Recocido simulado:\n",
        "\n",
        "El recocido simulado es una técnica de optimización probabilística que se inspira en el proceso de recocido en metalurgia. En la metalurgia, el recocido implica calentar un material y luego dejarlo enfriar lentamente para reducir sus defectos y aumentar su ductilidad. La técnica de recocido simulado intenta encontrar una buena (idealmente la mejor) solución a un problema de optimización que podría tener un espacio de soluciones muy grande.\n",
        "\n",
        "A diferencia del planteamiento Greedy, el recocido simulado permite la exploración de soluciones subóptimas para evitar quedar atrapado en óptimos locales y tener la posibilidad de encontrar soluciones mejores.\n"
      ]
    },
    {
      "cell_type": "markdown",
      "metadata": {
        "id": "56MUStpNAPm7"
      },
      "source": [
        "Asignación de tomas aleatorias\n",
        "\n",
        "El algoritmo comienza generando una asignación inicial aleatoria utilizando la función\n",
        "- asignar_tomas_aleatorias().\n",
        "\n",
        "Esta función genera una asignación inicial aleatoria de las tomas a los días de grabación, se ejecuta al comienzo del algoritmo de recocido simulado para obtener la asignación inicial antes de iniciar el proceso iterativo de mejora.\n",
        "\n",
        "La solución inicial es una lista de listas, donde cada sublista representa un día de grabación y contiene los números de las tomas que se realizarán ese día. Se intenta asignar 6 tomas a cada día.\n"
      ]
    },
    {
      "cell_type": "code",
      "execution_count": 13,
      "metadata": {
        "id": "hyvEFxsxAPm7"
      },
      "outputs": [],
      "source": [
        "def asignar_tomas_aleatorias():\n",
        "    # Fija la semilla\n",
        "    #random.seed(0)\n",
        "\n",
        "    # Crea una lista de todas las tomas en orden\n",
        "    tomas = list(range(num_tomas))\n",
        "\n",
        "    # Baraja aleatoriamente las tomas\n",
        "    random.shuffle(tomas)\n",
        "\n",
        "    # Crea una lista para almacenar los días de grabación\n",
        "    dias = []\n",
        "    index = 0\n",
        "\n",
        "    # Asigna las tomas a los días en grupos de 6 tomas por día\n",
        "    while index < num_tomas:\n",
        "        dia = tomas[index:index+6]\n",
        "        dias.append(deepcopy(dia))  # Crea una copia de la asignación de tomas para el día\n",
        "        index += 6\n",
        "\n",
        "    # Devuelve la asignación aleatoria de tomas a días\n",
        "    return dias\n"
      ]
    },
    {
      "cell_type": "markdown",
      "metadata": {
        "id": "ki-q0c7VAPm7"
      },
      "source": [
        "Generación de vecino\n",
        "\n",
        "A partir de esa asignación inicial, el algoritmo de recocido simulado busca mejorar iterativamente la asignación, explorando diferentes vecinos en el espacio de soluciones con la función\n",
        "\n",
        "- generar_vecino(asignacion).  \n",
        "\n",
        "Esta función genera una solución vecina intercambiando dos tomas de días diferentes en una asignación dada. Es una función que se utilizará dentro del bucle iterativo principal del algoritmo de recocido simulado. Se llamará repetidamente para generar soluciones vecinas y explorar diferentes opciones en busca de mejoras."
      ]
    },
    {
      "cell_type": "code",
      "execution_count": 14,
      "metadata": {
        "id": "PqJQZoVuAPm7"
      },
      "outputs": [],
      "source": [
        "def generar_vecino(asignacion):\n",
        "    # Crea una copia de la asignación actual\n",
        "    vecino = deepcopy(asignacion)\n",
        "\n",
        "    # Elige dos días aleatorios para el intercambio\n",
        "    dia1 = random.randint(0, len(asignacion) - 1)\n",
        "    dia2 = random.randint(0, len(asignacion) - 1)\n",
        "\n",
        "    # Verifica que los días elegidos sean diferentes\n",
        "    if dia1 != dia2:\n",
        "        # Elige una toma aleatoria en cada día para el intercambio\n",
        "        toma1 = random.choice(vecino[dia1])\n",
        "        toma2 = random.choice(vecino[dia2])\n",
        "\n",
        "        # Realiza el intercambio de las tomas entre los días\n",
        "        vecino[dia1].remove(toma1)\n",
        "        vecino[dia2].remove(toma2)\n",
        "        vecino[dia1].append(toma2)\n",
        "        vecino[dia2].append(toma1)\n",
        "\n",
        "    # Devuelve la asignación vecina generada\n",
        "    return vecino"
      ]
    },
    {
      "cell_type": "markdown",
      "metadata": {
        "id": "szf0owD9APm7"
      },
      "source": [
        "Calidad del vecino\n",
        "\n",
        "Una vez generado el vecino, se ha de evaluar su calidad para poder decidir si se acepta o no según una probabilidad basada en la función de probabilidad de aceptación\n",
        "\n",
        "- Función probabilidad_aceptacion(gasto_actual, nuevo_gasto, temperatura):\n",
        "\n",
        "Si el nuevo_gasto es menor que el gasto_actual (lo que significa que la nueva solución es mejor), la función retorna 1.0, lo que indica que la nueva solución debe ser aceptada con certeza.\n",
        "\n",
        "Si el nuevo_gasto es mayor que el gasto_actual (es decir, la nueva solución es peor), la función calcula y retorna una probabilidad de aceptación utilizando la fórmula de la metrópolis:\n",
        "\n",
        "$$\\begin{aligned}\n",
        "e^{\\frac{GastoActual - NuevoGasto}{temperatura}}\n",
        "\\end{aligned}$$\n",
        "\n",
        "Esta fórmula es comúnmente utilizada en el recocido simulado y se basa en la diferencia de costos entre la solución actual y la nueva, y la temperatura actual.\n",
        "\n",
        "Esta función se utilizará dentro del bucle iterativo principal del algoritmo de recocido simulado para determinar si se acepta o no una solución peor, lo que permitirá la exploración del espacio de búsqueda y evitará quedar atrapado en óptimos locales."
      ]
    },
    {
      "cell_type": "code",
      "execution_count": 15,
      "metadata": {
        "id": "4xNjFUHxAPm7"
      },
      "outputs": [],
      "source": [
        "# Definir la función que calcula la probabilidad de aceptar una solución peor en función de la temperatura actual del algoritmo de recocido simulado\n",
        "def probabilidad_aceptacion(gasto_actual, nuevo_gasto, temperatura):\n",
        "    # Verificar si la nueva solución tiene menor gasto (mejor solución)\n",
        "    if nuevo_gasto < gasto_actual:\n",
        "        # Si la nueva solución es mejor, aceptarla siempre (probabilidad 1.0)\n",
        "        return 1.0\n",
        "    # Calcular la probabilidad de aceptar una solución peor utilizando la fórmula del recocido simulado\n",
        "    return math.exp((gasto_actual - nuevo_gasto) / temperatura)"
      ]
    },
    {
      "cell_type": "markdown",
      "metadata": {
        "id": "JbPLAhJxAPm8"
      },
      "source": [
        "Cálculo del costo\n",
        "\n",
        "Se podría calcular directamente el costo total en una misma función, pero se ha preferido definir dos funciones que trabajen juntas para calcular el gasto total de una asignación de tomas a días\n",
        "\n",
        "- obtener_actores_presentes(dia,tabla_actores)\n",
        "\n",
        "Esta función toma un \"día\" como argumento, que es una lista de tomas de escenas que se deben filmar en un día en particular. Cada toma tiene un conjunto de actores asociados que se necesitan para esa toma en particular. Entonces, la función recorre cada toma en ese día y, a su vez, recorre cada actor en la tabla de actores para verificar si el actor está presente en la toma actual. Si el actor está presente, entonces se agrega al conjunto de actores presentes para ese día.\n",
        "\n",
        "- calcular_gasto_total(asignacion,tabla_actores)\n",
        "\n",
        "Esta función toma una \"asignación\" como argumento, que es una lista de listas donde cada sublista representa un día y contiene las tomas asignadas para ese día. El gasto se refiere al número total de actores requeridos para todas las tomas en todos los días.\n",
        "La función recorre cada día en la asignación, utilizando la función obtener_actores_presentes(dia) para obtener el conjunto de actores presentes para ese día, y luego suma el número de actores presentes en ese día al gasto total.\n",
        "\n",
        "Al finalizar devuelve el gasto total que proporcionará una medida fundamental para evaluar la eficiencia de la planificación de las sesiones de doblaje y lograr el objetivo de minimizar el gasto por los servicios de los actores de doblaje."
      ]
    },
    {
      "cell_type": "code",
      "execution_count": 16,
      "metadata": {
        "id": "zv2aFN5uAPm8"
      },
      "outputs": [],
      "source": [
        "\n",
        "# Obtiene el conjunto de actores presentes en un día de grabación\n",
        "def obtener_actores_presentes(dia,tabla_actores):\n",
        "    # Crea un conjunto para almacenar los actores presentes\n",
        "    actores_presentes = set()\n",
        "    # Recorre cada toma en el día de grabación\n",
        "    for toma in dia:\n",
        "        # Recorre cada actor en la tabla de actores\n",
        "        for actor in range(1, num_actores + 1):\n",
        "            # Verifica si el actor está presente en la toma actual\n",
        "            if tabla_actores[toma][actor - 1] == 1:\n",
        "                # Agrega el actor al conjunto de actores presentes\n",
        "                actores_presentes.add(actor)\n",
        "    # Devuelve el conjunto de actores presentes en el día\n",
        "    return actores_presentes"
      ]
    },
    {
      "cell_type": "code",
      "execution_count": 17,
      "metadata": {
        "id": "ahInEn4QAPm8"
      },
      "outputs": [],
      "source": [
        "def calcular_gasto_total(asignacion,tabla_actores):\n",
        "    # Calcula el gasto total\n",
        "    gasto_total = 0\n",
        "\n",
        "    for dia in asignacion:\n",
        "        actores_presentes = obtener_actores_presentes(dia,tabla_actores)\n",
        "        cantidad_actores = len(actores_presentes)\n",
        "        gasto_total += cantidad_actores\n",
        "\n",
        "    return gasto_total\n"
      ]
    },
    {
      "cell_type": "markdown",
      "metadata": {
        "id": "UXEVXdnuAPm8"
      },
      "source": [
        "Proceso de recocido simulado.\n",
        "\n",
        "\n",
        "\n",
        "- recocido_simulado():\n",
        "\n",
        "Esta función implementa el algoritmo de recocido simulado para encontrar la mejor asignación de tomas a días. Es la función principal que controla el proceso de recocido simulado.\n",
        "\n",
        "Se inicia un bucle principal que se ejecuta hasta que se alcance la temperatura final. En cada iteración, se realiza lo siguiente:\n",
        "\n",
        "- Cálculo de la diferencia de coste: Se calcula la diferencia de costo entre la solución actual y la solución vecina. Esta diferencia puede ser positiva (solución vecina peor) o negativa (solución vecina mejor).\n",
        "\n",
        "- Probabilidad de aceptación: Se calcula la probabilidad de aceptar la solución vecina utilizando una función de probabilidad. Si la probabilidad de aceptación es mayor que un número aleatorio generado, se acepta la solución vecina incluso si es peor. De lo contrario, se rechaza y se mantiene la solución actual.El uso del número aleatorio introduce aleatoriedad en el proceso de toma de decisiones, lo que a su vez permite la exploración del espacio de búsqueda y la posibilidad de aceptar soluciones subóptimas en ciertas circunstancias. A medida que la \"temperatura\" disminuye, se vuelve cada vez menos probable aceptar soluciones peores.\n",
        "\n",
        "- Actualización de la solución: Si la solución vecina es aceptada, se actualiza la solución actual con la solución vecina. De lo contrario, se mantiene la solución actual.\n",
        "\n",
        "- Actualización de la temperatura: Se actualiza la temperatura utilizando el factor de enfriamiento. Esto implica reducir gradualmente la temperatura en cada iteración para simular el enfriamiento del sistema.\n",
        "\n",
        "Criterio de parada: El bucle principal se repite hasta que se alcance la temperatura final. En cada iteración, la temperatura se reduce y se realizan exploraciones locales en busca de soluciones mejores o aceptables.\n",
        "\n",
        "Una vez finalizadas todas las iteraciones, se devuelve la mejor solución encontrada durante el proceso de recocido simulado.\n"
      ]
    },
    {
      "cell_type": "code",
      "execution_count": 18,
      "metadata": {
        "id": "tWWiQX4IAPm8"
      },
      "outputs": [],
      "source": [
        "def recocido_simulado(temperatura_inicial, temperatura_final, factor_enfriamiento, iteraciones_por_temperatura, tabla_actores):\n",
        "    # Generar una asignación inicial aleatoria de tomas a días\n",
        "    asignacion_actual = asignar_tomas_aleatorias()\n",
        "    # Calcular el gasto de la asignación inicial\n",
        "    gasto_actual = calcular_gasto_total(asignacion_actual, tabla_actores)\n",
        "\n",
        "    # Inicializar la mejor asignación y el mejor gasto encontrados hasta el momento\n",
        "    mejor_asignacion = asignacion_actual\n",
        "    mejor_gasto = gasto_actual\n",
        "    # Inicializar la lista de iteraciones del mejor gasto\n",
        "    mejores_gastos_iter = []\n",
        "\n",
        "    # Inicializar la temperatura actual con el valor inicial\n",
        "    temperatura = temperatura_inicial\n",
        "\n",
        "    # Inicializar la lista de temperaturas y mejores gastos\n",
        "    temperaturas = []\n",
        "    mejores_gastos = []\n",
        "\n",
        "    # Inicializa la lista para almacenar la proporción de soluciones aceptadas en cada paso\n",
        "    proporciones_aceptadas = []\n",
        "\n",
        "    # Inicializar el contador de soluciones aceptadas y propuestas\n",
        "    soluciones_aceptadas = 0\n",
        "    soluciones_propuestas = 0\n",
        "    # Inicializar el contador de iteraciones\n",
        "    contador_iteraciones = 0\n",
        "\n",
        "    # Inicializar la lista de costos de soluciones vecinas\n",
        "    costos_vecinos = []\n",
        "\n",
        "    # Bucle principal del algoritmo de recocido simulado\n",
        "    while temperatura > temperatura_final:\n",
        "        # Realizar un número fijo de iteraciones en cada temperatura\n",
        "        for _ in range(iteraciones_por_temperatura):\n",
        "\n",
        "            # Incrementar el contador de iteraciones\n",
        "            contador_iteraciones += 1\n",
        "            # Generar una asignación vecina intercambiando dos tomas de días diferentes\n",
        "            nueva_asignacion = generar_vecino(asignacion_actual)\n",
        "            # Calcular la gasto de la asignación vecina\n",
        "            nuevo_gasto = calcular_gasto_total(nueva_asignacion,tabla_actores)\n",
        "\n",
        "            # Verificar si se acepta la asignación vecina utilizando la probabilidad de aceptación\n",
        "            if probabilidad_aceptacion(gasto_actual, nuevo_gasto, temperatura) > random.random():\n",
        "                # Si se acepta la asignación vecina, actualizar la asignación y el gasto actuales\n",
        "                asignacion_actual = nueva_asignacion\n",
        "                gasto_actual = nuevo_gasto\n",
        "                soluciones_aceptadas += 1\n",
        "            # Aumentar el número de soluciones propuestas\n",
        "            soluciones_propuestas += 1\n",
        "\n",
        "            # Agregar el costo de la solución vecina a la lista de costos\n",
        "            costos_vecinos.append(nuevo_gasto)\n",
        "\n",
        "            # Verificar si la nueva asignación tiene un mejor gasto que la mejor asignación encontrada hasta el momento\n",
        "            if nuevo_gasto < mejor_gasto:\n",
        "                # Si es así, actualizar la mejor asignación y el mejor gasto\n",
        "                mejor_asignacion = nueva_asignacion\n",
        "                mejor_gasto = nuevo_gasto\n",
        "                # Almacenar los datos para la gráfica\n",
        "                temperaturas.append(temperatura)\n",
        "                mejores_gastos.append(mejor_gasto)\n",
        "                mejores_gastos_iter.append(contador_iteraciones)\n",
        "\n",
        "            # Almacenar la proporción de soluciones aceptadas hasta ahora\n",
        "            proporciones_aceptadas.append(soluciones_aceptadas / soluciones_propuestas)\n",
        "        # Enfriar la temperatura multiplicándola por el factor de enfriamiento\n",
        "        temperatura *= factor_enfriamiento\n",
        "\n",
        "    # Crear las gráficas\n",
        "\n",
        "    plt.figure(figsize=(6, 3))\n",
        "    plt.plot(temperaturas)\n",
        "    plt.title('Progreso del recocido simulado')\n",
        "    plt.ylabel('Temperatura')\n",
        "\n",
        "    plt.figure(figsize=(6,3))\n",
        "    plt.plot(mejores_gastos_iter, mejores_gastos)\n",
        "    plt.title('Mejores Gastos ')\n",
        "    plt.ylabel('Mejor gasto')\n",
        "    plt.xlabel('Iteración')\n",
        "\n",
        "    # Crear la gráfica del historial de aceptación de soluciones\n",
        "    plt.figure(figsize=(6,3))\n",
        "    plt.plot(proporciones_aceptadas)\n",
        "    plt.title('Historial de aceptación de soluciones')\n",
        "    plt.xlabel('Iteración')\n",
        "    plt.ylabel('Proporción de soluciones aceptadas')\n",
        "\n",
        "\n",
        "\n",
        "    plt.figure(figsize=(6,3))\n",
        "    plt.hist(costos_vecinos, bins=100, density=True)\n",
        "    plt.title('Distribución de costos de soluciones vecinas')\n",
        "    plt.xlabel('Costo')\n",
        "    plt.ylabel('Frecuencia')\n",
        "    plt.show()\n",
        "    # Devolver la mejor asignación encontrada y el costo total\n",
        "    return mejor_asignacion"
      ]
    },
    {
      "cell_type": "markdown",
      "metadata": {
        "id": "iTfPFK12APm8"
      },
      "source": [
        "Respuesta"
      ]
    },
    {
      "cell_type": "code",
      "execution_count": 20,
      "metadata": {
        "colab": {
          "base_uri": "https://localhost:8080/",
          "height": 1000
        },
        "id": "FSC0jJ3rAPm8",
        "outputId": "2ce346dc-caca-4b92-c8d5-5ddb9754dcd1"
      },
      "outputs": [
        {
          "output_type": "display_data",
          "data": {
            "text/plain": [
              "<Figure size 600x300 with 1 Axes>"
            ],
            "image/png": "[encoded data removed]"
          },
          "metadata": {}
        },
        {
          "output_type": "display_data",
          "data": {
            "text/plain": [
              "<Figure size 600x300 with 1 Axes>"
            ],
            "image/png": "[encoded data removed]"
          },
          "metadata": {}
        },
        {
          "output_type": "display_data",
          "data": {
            "text/plain": [
              "<Figure size 600x300 with 1 Axes>"
            ],
            "image/png": "[encoded data removed]"
          },
          "metadata": {}
        },
        {
          "output_type": "display_data",
          "data": {
            "text/plain": [
              "<Figure size 600x300 with 1 Axes>"
            ],
            "image/png": "[encoded data removed]"
          },
          "metadata": {}
        },
        {
          "output_type": "stream",
          "name": "stdout",
          "text": [
            "El día 1 se graban las tomas: 19, 18, 24, 17, 14, 23\n",
            "Haciendo que vayan al estudio los actores: 1, 3, 6\n",
            "\n",
            "El día 2 se graban las tomas: 12, 1, 20, 13, 7, 2\n",
            "Haciendo que vayan al estudio los actores: 1, 2, 3, 4, 5, 6\n",
            "\n",
            "El día 3 se graban las tomas: 4, 5, 3, 15, 6, 27\n",
            "Haciendo que vayan al estudio los actores: 1, 2, 4, 5, 7, 8\n",
            "\n",
            "El día 4 se graban las tomas: 16, 25, 22, 30, 9, 28\n",
            "Haciendo que vayan al estudio los actores: 1, 2, 3, 4, 10\n",
            "\n",
            "El día 5 se graban las tomas: 11, 10, 26, 21, 8, 29\n",
            "Haciendo que vayan al estudio los actores: 1, 2, 3, 5, 6, 8, 9\n",
            "\n",
            "El costo total de los actores que van al estudio en todas las sesiones es: 27\n"
          ]
        }
      ],
      "source": [
        "# Parámetros iniciales del algoritmo\n",
        "temperatura_inicial = 10000.0\n",
        "temperatura_final = 0.0000000000001\n",
        "factor_enfriamiento = 0.3\n",
        "iteraciones_por_temperatura = 10000\n",
        "\n",
        "# Utiliza el algoritmo de recocido simulado para asignar las tomas a los días de grabación\n",
        "dias_grabacion = recocido_simulado(temperatura_inicial, temperatura_final, factor_enfriamiento, iteraciones_por_temperatura,tabla_actores)\n",
        "\n",
        "# Calcula el gasto total utilizando la función objetivo\n",
        "gasto_total = calcular_gasto_total(dias_grabacion,tabla_actores)\n",
        "\n",
        "# Imprime el resultado de la asignación\n",
        "for i, dia in enumerate(dias_grabacion):\n",
        "    # Obtener el conjunto de actores presentes en el día actual\n",
        "    actores_presentes = obtener_actores_presentes(dia,tabla_actores)\n",
        "    # Verifica si el día tiene tomas y actores presentes\n",
        "    if dia and actores_presentes:\n",
        "        # Imprimir el número de día y las tomas asignadas en el formato deseado\n",
        "        print(f\"El día {i + 1} se graban las tomas: {', '.join(map(str, [toma + 1 for toma in dia]))}\")\n",
        "        # Imprime los actores presentes en el día en el formato deseado\n",
        "        print(f\"Haciendo que vayan al estudio los actores: {', '.join(map(str, actores_presentes))}\")\n",
        "        # Imprime una línea en blanco para separar los días\n",
        "        print()\n",
        "\n",
        "# Imprime el costo total de los actores que van al estudio en todas las sesiones\n",
        "print(f\"El costo total de los actores que van al estudio en todas las sesiones es: {gasto_total}\")"
      ]
    },
    {
      "cell_type": "markdown",
      "metadata": {
        "id": "OtpE0f7yAPm9"
      },
      "source": [
        "##### (*)Calcula la complejidad del algoritmo\n",
        "\n"
      ]
    },
    {
      "cell_type": "markdown",
      "metadata": {
        "id": "-4TWL2xTAPm9"
      },
      "source": [
        "Respuesta:\n",
        "\n",
        "Análisis de la compolejidad del algoritmo\n",
        "\n",
        "- asignar_tomas_aleatorias(): Esta función tiene una complejidad de $O(n)$, ya que recorre una lista de las tomas. El método shuffle también es $O(n)$ en su complejidad de tiempo ya que tiene que recorrer todos los elementos para mezclarlos. Luego, las tomas se asignan a los días en grupos, que también se recorren en un bucle, sumando al factor $O(n)$. Se puede decir que esta función tiene una complejidad de $O(n)$.\n",
        "\n",
        "- generar_vecino(asignacion): Esta función tiene una complejidad de $O(1)$ ya que sólo selecciona elementos aleatorios y realiza un intercambio. No importa cuán grande sea la entrada, el tiempo de ejecución será constante.\n",
        "\n",
        "- probabilidad_aceptacion(gasto_actual, nuevo_gasto, temperatura): La complejidad de esta función es $O(1)$, ya que solo realiza una operación matemática que no depende del tamaño de la entrada.\n",
        "\n",
        "- obtener_actores_presentes(dia): Esta función itera a través de cada toma en el día y luego a través de cada actor en la tabla de actores. Dado que hay $t$ tomas y $a$ actores, y ambas iteraciones están anidadas, la complejidad total es $O(t*a)$.\n",
        "\n",
        "- calcular_gasto_total(asignacion,tabla_actores): Esta función itera a través de cada día en la asignación y para cada día llama a obtener_actores_presentes(dia), que es $O(t*a)$. Por lo tanto, si llamamos d al número de días, la complejidad total sería $O(a*t*d)$. Hay que tener en cuenta que el número de días nunca superará el número de tomas por lo que podríamos quitarlo del resultado quedando como $O(t*a)$\n",
        "\n",
        "- recocido_simulado(temperatura_inicial, temperatura_final, factor_enfriamiento, iteraciones_por_temperatura,tabla_actores):\n",
        "\n",
        "El número de veces que se ejecuta el bucle principal es proporcional al logaritmo en base factorenfriamiento de la temperatura inicial / temperatura final. Esto es debido a que la temperatura se reduce multiplicándola por el factor de enfriamiento en cada iteración. Siendo IT las iteraciones por temperatura y CO la complejidad del resto de operaciones.\n",
        "\n",
        "$$\\begin{aligned}\n",
        "O(\\log(FactorEnfriamiento) \\times \\frac{TemperaturaInicial}{TemperaturaFinal} \\times IT \\times CO)\n",
        "\\end{aligned}$$\n",
        "\n",
        "El logaritmo está relacionado con la cantidad de enfriamientos que se realizarán en el algoritmo. Este término no crece con el tamaño del problema, pero sí puede ser ajustado para controlar cuántas iteraciones se realizan.\n",
        "En este caso el número de iteraciones que se realicen en el bucle principal incrementará el costo del algoritmo debido a las constantes multiplicativas\n",
        "\n",
        "El término $CO$ corresponde a la complejidad de las operaciones realizadas en cada iteración del bucle interno, calcular_gasto_total, y probabilidad_aceptacion.\n",
        ".\n",
        "\n"
      ]
    },
    {
      "cell_type": "markdown",
      "metadata": {
        "id": "aWIf59E-APm9"
      },
      "source": [
        "##### Según el problema (y tenga sentido), diseña un juego de datos de entrada aleatorios"
      ]
    },
    {
      "cell_type": "markdown",
      "metadata": {
        "id": "WUB9j__tAPm9"
      },
      "source": [
        "Respuesta:"
      ]
    },
    {
      "cell_type": "code",
      "execution_count": 21,
      "metadata": {
        "colab": {
          "base_uri": "https://localhost:8080/"
        },
        "id": "A6TUtfmpAPm9",
        "outputId": "f57047f0-adf2-45ec-b904-433a67817824"
      },
      "outputs": [
        {
          "output_type": "execute_result",
          "data": {
            "text/plain": [
              "array([[0, 0, 1, 0, 1, 1, 1, 1, 0, 0],\n",
              "       [1, 0, 1, 1, 0, 1, 1, 0, 0, 1],\n",
              "       [0, 0, 0, 0, 1, 0, 1, 0, 0, 1],\n",
              "       [1, 0, 1, 0, 0, 1, 1, 0, 1, 0],\n",
              "       [0, 1, 0, 1, 1, 0, 1, 1, 1, 1],\n",
              "       [0, 1, 0, 1, 1, 0, 1, 1, 0, 1],\n",
              "       [0, 0, 1, 1, 1, 0, 1, 0, 1, 1],\n",
              "       [0, 0, 0, 0, 0, 0, 1, 1, 1, 1],\n",
              "       [1, 0, 1, 0, 0, 1, 0, 1, 1, 0],\n",
              "       [1, 1, 1, 1, 1, 0, 1, 1, 0, 0],\n",
              "       [0, 0, 0, 1, 0, 0, 0, 0, 1, 0],\n",
              "       [1, 0, 1, 0, 0, 1, 1, 0, 0, 0],\n",
              "       [1, 0, 1, 1, 1, 1, 1, 1, 0, 0],\n",
              "       [1, 1, 1, 1, 0, 1, 0, 1, 0, 1],\n",
              "       [0, 0, 0, 1, 0, 0, 0, 1, 1, 0],\n",
              "       [1, 0, 0, 1, 1, 1, 0, 1, 0, 0],\n",
              "       [0, 1, 0, 0, 1, 1, 0, 1, 1, 0],\n",
              "       [0, 0, 0, 1, 0, 0, 1, 0, 1, 0],\n",
              "       [0, 1, 0, 1, 0, 1, 1, 1, 0, 1],\n",
              "       [1, 1, 0, 0, 0, 1, 0, 1, 1, 0],\n",
              "       [1, 0, 1, 1, 1, 0, 0, 0, 0, 0],\n",
              "       [0, 0, 0, 1, 1, 1, 1, 1, 1, 0],\n",
              "       [1, 0, 1, 0, 0, 1, 0, 1, 0, 1],\n",
              "       [0, 0, 1, 0, 1, 0, 0, 0, 1, 1],\n",
              "       [1, 0, 1, 1, 0, 0, 1, 0, 0, 0],\n",
              "       [1, 0, 0, 0, 0, 1, 0, 0, 1, 0],\n",
              "       [0, 0, 0, 1, 1, 1, 1, 1, 1, 0],\n",
              "       [0, 1, 0, 0, 0, 1, 1, 1, 1, 1],\n",
              "       [1, 0, 0, 1, 1, 0, 1, 0, 1, 1],\n",
              "       [1, 0, 0, 1, 0, 0, 1, 0, 1, 0]])"
            ]
          },
          "metadata": {},
          "execution_count": 21
        }
      ],
      "source": [
        "tabla_act_aleatoria_np"
      ]
    },
    {
      "cell_type": "markdown",
      "metadata": {
        "id": "NWEgcFMLAPm-"
      },
      "source": [
        "##### Aplica el algoritmo al juego de datos generado"
      ]
    },
    {
      "cell_type": "markdown",
      "metadata": {
        "id": "vP61MN-dAPm-"
      },
      "source": [
        "Respuesta:"
      ]
    },
    {
      "cell_type": "code",
      "execution_count": 22,
      "metadata": {
        "colab": {
          "base_uri": "https://localhost:8080/",
          "height": 1000
        },
        "id": "Hlmadro4APm-",
        "outputId": "3e3c36b1-79ec-4b0a-a5e2-c67fca2e9f42"
      },
      "outputs": [
        {
          "output_type": "display_data",
          "data": {
            "text/plain": [
              "<Figure size 600x300 with 1 Axes>"
            ],
            "image/png": "[encoded data removed]"
          },
          "metadata": {}
        },
        {
          "output_type": "display_data",
          "data": {
            "text/plain": [
              "<Figure size 600x300 with 1 Axes>"
            ],
            "image/png": "[encoded data removed]"
          },
          "metadata": {}
        },
        {
          "output_type": "display_data",
          "data": {
            "text/plain": [
              "<Figure size 600x300 with 1 Axes>"
            ],
            "image/png": "[encoded data removed]"
          },
          "metadata": {}
        },
        {
          "output_type": "display_data",
          "data": {
            "text/plain": [
              "<Figure size 600x300 with 1 Axes>"
            ],
            "image/png": "[encoded data removed]"
          },
          "metadata": {}
        },
        {
          "output_type": "stream",
          "name": "stdout",
          "text": [
            "El día 1 se graban las tomas: 24, 29, 7, 21, 3, 18\n",
            "Haciendo que vayan al estudio los actores: 1, 3, 4, 5, 7, 9, 10\n",
            "\n",
            "El día 2 se graban las tomas: 20, 9, 13, 1, 15, 10\n",
            "Haciendo que vayan al estudio los actores: 1, 2, 3, 4, 5, 6, 7, 8, 9\n",
            "\n",
            "El día 3 se graban las tomas: 2, 19, 23, 16, 6, 14\n",
            "Haciendo que vayan al estudio los actores: 1, 2, 3, 4, 5, 6, 7, 8, 10\n",
            "\n",
            "El día 4 se graban las tomas: 26, 4, 12, 30, 11, 25\n",
            "Haciendo que vayan al estudio los actores: 1, 3, 4, 6, 7, 9\n",
            "\n",
            "El día 5 se graban las tomas: 17, 5, 28, 8, 22, 27\n",
            "Haciendo que vayan al estudio los actores: 2, 4, 5, 6, 7, 8, 9, 10\n",
            "\n",
            "El costo total de los actores que van al estudio en todas las sesiones es: 39\n"
          ]
        }
      ],
      "source": [
        "# Parámetros iniciales del algoritmo\n",
        "temperatura_inicial = 10000.0\n",
        "temperatura_final = 0.01\n",
        "factor_enfriamiento = 0.95\n",
        "iteraciones_por_temperatura = 1000\n",
        "\n",
        "# Utilizar el algoritmo de recocido simulado para asignar las tomas a los días de grabación\n",
        "dias_grabacion = recocido_simulado(temperatura_inicial, temperatura_final, factor_enfriamiento, iteraciones_por_temperatura,tabla_act_aleatoria_np)\n",
        "\n",
        "# Calcular el gasto total utilizando la función objetivo\n",
        "gasto_total = calcular_gasto_total(dias_grabacion,tabla_act_aleatoria_np)\n",
        "\n",
        "# Imprimir el resultado de la asignación\n",
        "for i, dia in enumerate(dias_grabacion):\n",
        "    # Obtener el conjunto de actores presentes en el día actual\n",
        "    actores_presentes = obtener_actores_presentes(dia,tabla_act_aleatoria_np)\n",
        "    # Verificar si el día tiene tomas y actores presentes\n",
        "    if dia and actores_presentes:\n",
        "        # Imprimir el número de día y las tomas asignadas en el formato deseado\n",
        "        print(f\"El día {i + 1} se graban las tomas: {', '.join(map(str, [toma + 1 for toma in dia]))}\")\n",
        "        # Imprimir los actores presentes en el día en el formato deseado\n",
        "        print(f\"Haciendo que vayan al estudio los actores: {', '.join(map(str, actores_presentes))}\")\n",
        "        # Imprimir una línea en blanco para separar los días\n",
        "        print()\n",
        "\n",
        "# Imprimir el costo total de los actores que van al estudio en todas las sesiones\n",
        "print(f\"El costo total de los actores que van al estudio en todas las sesiones es: {gasto_total}\")"
      ]
    },
    {
      "cell_type": "markdown",
      "metadata": {
        "id": "eTFWUJQrtGcv"
      },
      "source": [
        "### Enumera las referencias que has utilizado(si ha sido necesario) para llevar a cabo el trabajo"
      ]
    },
    {
      "cell_type": "markdown",
      "metadata": {
        "id": "YKQ_mRBttWsP"
      },
      "source": [
        "Respuesta\n",
        "\n",
        "VELÁSQUEZ, R. (01 Marzo 2016). UN ALGORITMO METAHEURÍSTICO DE RECOCIDO SIMULADO PARA EL 3AP-AXIAL. https://www.redalyc.org/. https://www.redalyc.org/journal/4277/427750771013/html/\n",
        "\n",
        "Introduction to Greedy Algorithm – Data Structures and Algorithm Tutorials (08 May, 2023)https://www.geeksforgeeks.org/greedy-algorithms/\n",
        "https://www.geeksforgeeks.org/introduction-to-greedy-algorithm-data-structures-and-algorithm-tutorials/\n",
        "\n",
        "\n",
        "\n"
      ]
    },
    {
      "cell_type": "markdown",
      "metadata": {
        "id": "kAkDPUyRtYyH"
      },
      "source": [
        "### Describe brevemente las lineas de como crees que es posible avanzar en el estudio del problema. Ten en cuenta incluso posibles variaciones del problema y/o variaciones al alza del tamaño"
      ]
    },
    {
      "cell_type": "markdown",
      "metadata": {
        "id": "IE0uZmo-tZu-"
      },
      "source": [
        "Respuesta\n",
        "\n",
        "Para el método Greedy:\n",
        "\n",
        "- Los algoritmos Greedy pueden ser muy sensibles a la forma en que se presentan los datos. Por ello puede ser una buena opción mezclar los datos de las sesiones y ejecutar el algoritmo varias veces con diferentes órdenes de los datos y ver qué solución es la mejor.\n",
        "\n",
        "- Para mejorar el algoritmo Greedy podría combinarlo con otras técnicas de optimización. Por ejemplo, podría usar un algoritmo Greedy para generar una solución inicial rápida, y luego mejorarla con un algoritmo de metaheurística, como el recocido simulado.\n",
        "\n",
        "\n",
        "\n",
        "Para el Recocido simulado:\n",
        "\n",
        "- La calidad de la solución que proporciona el recocido simulado puede ser muy sensible a los parámetros del algoritmo, como la temperatura inicial, la tasa de enfriamiento, y el número de iteraciones. Se podría intentar hacer una búsqueda sistemática de los parámetros que dan mejores resultados para este problema en particular. O utilizar técnicas de aprendizaje automático para optimizar estos parámetros.\n",
        "\n",
        "- Se podría tratar de diseñar un operador de vecindad que sea más eficiente o que tenga más probabilidades de encontrar buenas soluciones.\n",
        "\n",
        "- Intentar combinar el recocido simulado con otros algoritmos de optimización. Por ejemplo, usar un algoritmo de optimización local que proporcione mejores resultados para mejorar las soluciones encontradas por el recocido simulado.\n",
        "\n",
        "\n"
      ]
    },
    {
      "cell_type": "markdown",
      "metadata": {
        "id": "iq9UBsxUAPm_"
      },
      "source": [
        "## Problema 3 (Extra)"
      ]
    },
    {
      "cell_type": "markdown",
      "metadata": {
        "id": "qQ89LlPmRT8X"
      },
      "source": [
        "**Aunque no está completo, he realizado un progreso considerable en el problema 3. Aquí lo que he hecho para que pueda revisarlo si lo considera necesario.**\n"
      ]
    },
    {
      "cell_type": "markdown",
      "metadata": {
        "id": "f9bwK1E8WIS2"
      },
      "source": [
        "Combinar cifras y operaciones\n",
        "- El problema consiste en analizar el siguiente problema y diseñar un algoritmo que lo resuelva.\n",
        "- Disponemos de las 9 cifras del 1 al 9 (excluimos el cero) y de los 4 signos básicos de las\n",
        "operaciones fundamentales: suma(+), resta(-), multiplicación(*) y división(/)\n",
        "- Debemos combinarlos alternativamente sin repetir ninguno de ellos para obtener una\n",
        "cantidad dada. Un ejemplo sería para obtener el 4:\n",
        "4+2-6/3*1 = 4\n",
        "\n",
        "Debe analizarse el problema para encontrar todos los valores enteros posibles planteando las\n",
        "siguientes cuestiones:\n",
        "- ¿Qué valor máximo y mínimo se pueden obtener según las condiciones del problema?\n",
        "- ¿Es posible encontrar todos los valores enteros posibles entre dicho mínimo y máximo ?\n"
      ]
    },
    {
      "cell_type": "markdown",
      "metadata": {
        "id": "z0EWvW2gI6s3"
      },
      "source": [
        "### (*)¿Cuantas posibilidades hay sin tener en cuenta las restricciones?<br>\n",
        "Cantidad de soluciones posibles sin restricciones\n",
        "Si la restricción de que no se repitan no está se podría alcanzar una cantidad de soluciones de 9^5 * 4^4 = 15116544\n",
        "\n",
        "Por lo tanto tiene orden\n",
        "- O(n^5 * m^4)"
      ]
    },
    {
      "cell_type": "code",
      "execution_count": 23,
      "metadata": {
        "colab": {
          "base_uri": "https://localhost:8080/"
        },
        "id": "u01pG3aSI9jO",
        "outputId": "16324954-104a-4411-94fc-46446133609a"
      },
      "outputs": [
        {
          "output_type": "stream",
          "name": "stdout",
          "text": [
            "15116544\n"
          ]
        }
      ],
      "source": [
        "cifras = [1, 2, 3, 4, 5, 6, 7, 8, 9]\n",
        "ops = ['+', '-', '*', '/']\n",
        "count = 0\n",
        "for d1 in cifras:\n",
        "    for d2 in cifras:\n",
        "        for d3 in cifras:\n",
        "            for d4 in cifras:\n",
        "                for d5 in cifras:\n",
        "                    for op1 in ops:\n",
        "                        for op2 in ops:\n",
        "                            for op3 in ops:\n",
        "                                for op4 in ops:\n",
        "                                    count += 1\n",
        "print(count)"
      ]
    },
    {
      "cell_type": "markdown",
      "metadata": {
        "id": "CFWlR5mBOKFB"
      },
      "source": [
        "### ¿Cuantas posibilidades hay teniendo en cuenta todas las restricciones.\n",
        "\n",
        "Cantidad de soluciones posibles con restricciones\n",
        "\n",
        "Con las restricciones de no repetición las soluciones se pueden calcular como:\n",
        "$$  n * (n-1) * (n-2) * (n-3) * (n-4) * m * (m-1) * (m-2)* (m-3)$$\n",
        "$$\n",
        "9*8*7*6*5*4*3*2*1 = 9! = 362880\n",
        "$$\n",
        "Por lo tanto existen 9! posibles soluciones:\n"
      ]
    },
    {
      "cell_type": "code",
      "execution_count": 24,
      "metadata": {
        "colab": {
          "base_uri": "https://localhost:8080/"
        },
        "id": "Wh2OCcbGOLRf",
        "outputId": "b3839fd1-618b-435f-f33e-e73d26837d93"
      },
      "outputs": [
        {
          "output_type": "stream",
          "name": "stdout",
          "text": [
            "362880\n"
          ]
        }
      ],
      "source": [
        "count=0\n",
        "for d1 in cifras:\n",
        "    for d2 in cifras:\n",
        "        if d2 == d1:\n",
        "            continue\n",
        "        for d3 in cifras:\n",
        "            if d3 == d1 or d3 == d2:\n",
        "                continue\n",
        "            for d4 in cifras:\n",
        "                if d4 == d1 or d4 == d2 or d4 == d3:\n",
        "                    continue\n",
        "                for d5 in cifras:\n",
        "                    if d5 == d1 or d5 == d2 or d5 == d3 or d5 == d4:\n",
        "                        continue\n",
        "                    for op1 in ops:\n",
        "                        for op2 in ops:\n",
        "                            if op1 == op2:\n",
        "                                continue\n",
        "                            for op3 in ops:\n",
        "                                if op3 == op1 or op3 == op2:\n",
        "                                    continue\n",
        "                                for op4 in ops:\n",
        "                                    if op4 == op1 or op4 == op2 or op4 == op3:\n",
        "                                        continue\n",
        "                                    count += 1\n",
        "print(count)"
      ]
    },
    {
      "cell_type": "markdown",
      "metadata": {
        "id": "R-iqMi0VW0YN"
      },
      "source": [
        "### Modelo para el espacio de soluciones<br>\n",
        "(*) ¿Cual es la estructura de datos que mejor se adapta al problema? Argumentalo.(Es posible que hayas elegido una al principio y veas la necesidad de cambiar, arguentalo)\n",
        "\n",
        "Las listas son una estructura de datos que se utiliza para almacenar una colección de elementos. En este caso, la lista “cifras” contiene los números del 1 al 9 y la lista “ops” contiene las operaciones aritméticas básicas como suma, resta, multiplicación y división.\n",
        "\n",
        "Se han escogido las listas como estructura de datos ya que a diferencia de los vectores, las listas en Python pueden contener elementos de diferentes tipos y no necesitan ser del mismo tamaño. Además, las listas en Python son dinámicas, lo que significa que pueden crecer o disminuir de tamaño según sea necesario.\n",
        "\n"
      ]
    },
    {
      "cell_type": "code",
      "execution_count": 25,
      "metadata": {
        "colab": {
          "base_uri": "https://localhost:8080/",
          "height": 52
        },
        "id": "OQ4FaNZLX8U3",
        "outputId": "82f4175e-7144-4e84-ad52-13d9227724c9"
      },
      "outputs": [
        {
          "output_type": "display_data",
          "data": {
            "text/plain": [
              "[1, 2, 3, 4, 5, 6, 7, 8, 9]"
            ]
          },
          "metadata": {}
        },
        {
          "output_type": "display_data",
          "data": {
            "text/plain": [
              "['+', '-', '*', '/']"
            ]
          },
          "metadata": {}
        }
      ],
      "source": [
        "display(cifras)\n",
        "display(ops)"
      ]
    },
    {
      "cell_type": "markdown",
      "metadata": {
        "id": "ZSmH-8aDYDYr"
      },
      "source": [
        "### Según el modelo para el espacio de soluciones<br>\n",
        "\n",
        "(*)¿Cual es la función objetivo?\n",
        "\n",
        "$$ expr= f'{d1} {op1} {d2} {op2} {d3} {op3} {d4} {op4} {d5}'$$\n",
        "$$ eval(expr)=result $$\n",
        "\n",
        "Donde:\n",
        "\n",
        "- 'd1', 'd2', ..., 'd5' representan las cifras del 1 al 9\n",
        "- 'op1', 'op2', 'op3', 'op4' representan los signos de operación correspondientes (+, -, *, /)\n",
        "\n",
        "(*)¿Es un problema de maximización o minimización?\n",
        "\n",
        "No es ni de minimización ni de maximización"
      ]
    },
    {
      "cell_type": "markdown",
      "metadata": {
        "id": "GLdlbtK6PNzH"
      },
      "source": [
        "### Diseña un algoritmo para resolver el problema por fuerza bruta\n",
        "Resolución del problema por Fuerza Bruta SIN RESTRICCIONES\n",
        "\n",
        "Se ha definido una función que genera todas las posibles combinaciones de cifras y operaciones, incluso repitiendo cifras y operaciones.\n",
        "\n",
        "Es decir, se pueden generar expresiones como '1 + 1 + 1 + 1 + 1' o '1 * 2 * 3 * 4 * 5'.\n",
        "\n",
        "Al final se añade una comprobación adicional después de calcular el resultado:\n",
        "- Si las cifras y las operaciones en la expresión son todas únicas, se imprime la expresión y el resultado.\n",
        "- Si no son únicas, la expresión se descarta."
      ]
    },
    {
      "cell_type": "code",
      "execution_count": 29,
      "metadata": {
        "colab": {
          "base_uri": "https://localhost:8080/"
        },
        "id": "yLm-FJV4h8qc",
        "outputId": "cfb6c95e-5ee9-4ffe-835a-a4b9f581120d"
      },
      "outputs": [
        {
          "output_type": "stream",
          "name": "stdout",
          "text": [
            "1 - 2 * 3 / 6 + 4 = 4.0\n",
            "1 - 2 / 3 * 6 + 7 = 4.0\n",
            "1 / 2 * 4 - 3 + 5 = 4.0\n",
            "1 / 2 * 4 + 5 - 3 = 4.0\n",
            "1 / 2 * 4 - 5 + 7 = 4.0\n",
            "1 * 2 + 4 - 6 / 3 = 4.0\n",
            "1 / 2 * 4 - 6 + 8 = 4.0\n",
            "1 / 2 * 4 + 7 - 5 = 4.0\n",
            "1 / 2 * 4 - 7 + 9 = 4.0\n",
            "1 / 2 * 4 + 8 - 6 = 4.0\n",
            "1 - 2 / 4 * 8 + 7 = 4.0\n",
            "1 / 2 * 4 + 9 - 7 = 4.0\n",
            "1 * 2 + 5 - 9 / 3 = 4.0\n",
            "1 - 2 / 6 * 3 + 4 = 4.0\n",
            "1 * 2 - 6 / 3 + 4 = 4.0\n",
            "1 / 2 * 6 - 3 + 4 = 4.0\n",
            "1 - 2 * 6 / 3 + 7 = 4.0\n",
            "1 / 2 * 6 + 4 - 3 = 4.0\n",
            "1 / 2 * 6 - 4 + 5 = 4.0\n",
            "1 / 2 * 6 + 5 - 4 = 4.0\n",
            "1 / 2 * 6 - 7 + 8 = 4.0\n",
            "1 / 2 * 6 + 8 - 7 = 4.0\n",
            "1 / 2 * 6 - 8 + 9 = 4.0\n",
            "1 / 2 * 6 + 9 - 8 = 4.0\n",
            "1 - 2 * 8 / 4 + 7 = 4.0\n",
            "1 * 2 - 9 / 3 + 5 = 4.0\n",
            "Búsqueda interrumpida.\n"
          ]
        }
      ],
      "source": [
        "def encontrar_expresion(objetivo,cifras,ops):\n",
        "    for d1 in cifras:\n",
        "        for d2 in cifras:\n",
        "            for d3 in cifras:\n",
        "                for d4 in cifras:\n",
        "                    for d5 in cifras:\n",
        "                        for op1 in ops:\n",
        "                            for op2 in ops:\n",
        "                                for op3 in ops:\n",
        "                                    for op4 in ops:\n",
        "                                        expr = f'{d1} {op1} {d2} {op2} {d3} {op3} {d4} {op4} {d5}'\n",
        "                                        try:\n",
        "                                            result = round(eval(expr),3)\n",
        "                                            if result == objetivo:\n",
        "                                                cifras_list = [d1, d2, d3, d4, d5]\n",
        "                                                op_list = [op1, op2, op3, op4]\n",
        "                                                if len(set(cifras_list)) == len(cifras_list) and len(set(op_list)) == len(op_list):\n",
        "                                                    print(f'{expr} = {result}')\n",
        "                                        except ZeroDivisionError:\n",
        "                                            pass\n",
        "    return None\n",
        "\n",
        "try:\n",
        "    encontrar_expresion(4,cifras,ops)\n",
        "except KeyboardInterrupt:\n",
        "    print(\"Búsqueda interrumpida.\")"
      ]
    },
    {
      "cell_type": "markdown",
      "metadata": {
        "id": "J83jRq38kJgW"
      },
      "source": [
        "### Calcula la complejidad del algoritmo por fuerza bruta\n",
        "\n",
        "Cantidad de soluciones posibles SIN RESTRICCIONES\n",
        "\n",
        "Si la restricción de que no se repitan no está se podría alcanzar una cantidad de soluciones de 9^5 * 4^4 = 15116544\n",
        "\n",
        "Por lo tanto tiene orden\n",
        "- O(n^5 * m^4)"
      ]
    },
    {
      "cell_type": "markdown",
      "metadata": {
        "id": "3NWWXWxHfyki"
      },
      "source": [
        "### Diseña un algoritmo que mejore la complejidad del algortimo por fuerza bruta. Argumenta porque crees que mejora el algoritmo por fuerza bruta\n"
      ]
    },
    {
      "cell_type": "markdown",
      "metadata": {
        "id": "RIu1FvsBw9-C"
      },
      "source": [
        "El siguiente método evita probar las combinaciones en la que no se cumplan las condiciones de no repetición. Es decir, evita que la misma cifra o la misma operación se use más de una vez en la misma expresión.\n",
        "\n",
        "Esto se logra mediante las declaraciones continue, que saltan al siguiente ciclo si la cifra o la operación ya ha sido utilizada.\n",
        "\n",
        "En términos de eficiencia computacional, será generalmente más rápido que el primero porque tiene que probar menos combinaciones."
      ]
    },
    {
      "cell_type": "code",
      "execution_count": 31,
      "metadata": {
        "colab": {
          "base_uri": "https://localhost:8080/"
        },
        "id": "wj-_KRUXO0iq",
        "outputId": "97dad449-b059-433f-a143-5501b0649f1e"
      },
      "outputs": [
        {
          "output_type": "stream",
          "name": "stdout",
          "text": [
            "1 - 2 * 3 / 6 + 4 = 4.0\n",
            "1 - 2 / 3 * 6 + 7 = 4.0\n",
            "1 / 2 * 4 - 3 + 5 = 4.0\n",
            "1 / 2 * 4 + 5 - 3 = 4.0\n",
            "1 / 2 * 4 - 5 + 7 = 4.0\n",
            "1 * 2 + 4 - 6 / 3 = 4.0\n",
            "1 / 2 * 4 - 6 + 8 = 4.0\n",
            "1 / 2 * 4 + 7 - 5 = 4.0\n",
            "1 / 2 * 4 - 7 + 9 = 4.0\n",
            "1 / 2 * 4 + 8 - 6 = 4.0\n",
            "1 - 2 / 4 * 8 + 7 = 4.0\n",
            "1 / 2 * 4 + 9 - 7 = 4.0\n",
            "1 * 2 + 5 - 9 / 3 = 4.0\n",
            "1 - 2 / 6 * 3 + 4 = 4.0\n",
            "1 * 2 - 6 / 3 + 4 = 4.0\n",
            "1 / 2 * 6 - 3 + 4 = 4.0\n",
            "1 - 2 * 6 / 3 + 7 = 4.0\n",
            "1 / 2 * 6 + 4 - 3 = 4.0\n",
            "1 / 2 * 6 - 4 + 5 = 4.0\n",
            "1 / 2 * 6 + 5 - 4 = 4.0\n",
            "1 / 2 * 6 - 7 + 8 = 4.0\n",
            "1 / 2 * 6 + 8 - 7 = 4.0\n",
            "1 / 2 * 6 - 8 + 9 = 4.0\n",
            "1 / 2 * 6 + 9 - 8 = 4.0\n",
            "1 - 2 * 8 / 4 + 7 = 4.0\n",
            "1 * 2 - 9 / 3 + 5 = 4.0\n",
            "1 - 3 / 2 * 4 + 9 = 4.0\n",
            "1 - 3 * 2 / 6 + 4 = 4.0\n",
            "1 + 3 / 2 * 8 - 9 = 4.0\n",
            "1 - 3 * 4 / 2 + 9 = 4.0\n",
            "1 * 3 + 4 - 6 / 2 = 4.0\n",
            "1 - 3 * 4 / 6 + 5 = 4.0\n",
            "1 - 3 + 4 / 6 * 9 = 4.0\n",
            "1 - 3 / 4 * 8 + 9 = 4.0\n",
            "1 - 3 + 4 * 9 / 6 = 4.0\n",
            "1 * 3 + 5 - 8 / 2 = 4.0\n",
            "1 - 3 / 6 * 2 + 4 = 4.0\n",
            "1 * 3 - 6 / 2 + 4 = 4.0\n",
            "1 / 3 * 6 - 2 + 4 = 4.0\n",
            "1 / 3 * 6 + 4 - 2 = 4.0\n",
            "1 - 3 / 6 * 4 + 5 = 4.0\n",
            "1 / 3 * 6 - 5 + 7 = 4.0\n",
            "1 / 3 * 6 + 7 - 5 = 4.0\n",
            "1 / 3 * 6 - 7 + 9 = 4.0\n",
            "1 - 3 / 6 * 8 + 7 = 4.0\n",
            "1 - 3 * 6 / 9 + 5 = 4.0\n",
            "1 / 3 * 6 + 9 - 7 = 4.0\n",
            "1 * 3 - 8 / 2 + 5 = 4.0\n",
            "1 + 3 * 8 / 2 - 9 = 4.0\n",
            "1 - 3 * 8 / 4 + 9 = 4.0\n",
            "1 - 3 * 8 / 6 + 7 = 4.0\n",
            "1 / 3 * 9 - 4 + 5 = 4.0\n",
            "1 - 3 + 9 * 4 / 6 = 4.0\n",
            "1 / 3 * 9 + 5 - 4 = 4.0\n",
            "1 / 3 * 9 - 5 + 6 = 4.0\n",
            "1 - 3 + 9 / 6 * 4 = 4.0\n",
            "1 - 3 / 9 * 6 + 5 = 4.0\n",
            "1 / 3 * 9 + 6 - 5 = 4.0\n",
            "1 / 3 * 9 - 6 + 7 = 4.0\n",
            "1 / 3 * 9 + 7 - 6 = 4.0\n",
            "1 / 3 * 9 - 7 + 8 = 4.0\n",
            "1 / 3 * 9 + 8 - 7 = 4.0\n",
            "1 * 4 / 2 - 3 + 5 = 4.0\n",
            "1 + 4 - 2 * 3 / 6 = 4.0\n",
            "1 - 4 / 2 * 3 + 9 = 4.0\n",
            "1 * 4 / 2 + 5 - 3 = 4.0\n",
            "1 + 4 / 2 * 5 - 7 = 4.0\n",
            "1 * 4 / 2 - 5 + 7 = 4.0\n",
            "1 + 4 - 2 / 6 * 3 = 4.0\n",
            "1 * 4 + 2 - 6 / 3 = 4.0\n",
            "1 * 4 - 2 + 6 / 3 = 4.0\n",
            "1 * 4 / 2 - 6 + 8 = 4.0\n",
            "1 + 4 / 2 * 6 - 9 = 4.0\n",
            "1 * 4 / 2 + 7 - 5 = 4.0\n",
            "1 * 4 / 2 - 7 + 9 = 4.0\n",
            "1 * 4 / 2 + 8 - 6 = 4.0\n",
            "1 * 4 / 2 + 9 - 7 = 4.0\n",
            "1 + 4 - 3 * 2 / 6 = 4.0\n",
            "1 - 4 * 3 / 2 + 9 = 4.0\n",
            "1 + 4 - 3 / 6 * 2 = 4.0\n",
            "1 * 4 + 3 - 6 / 2 = 4.0\n",
            "1 * 4 - 3 + 6 / 2 = 4.0\n",
            "1 + 4 / 3 * 6 - 5 = 4.0\n",
            "1 - 4 * 3 / 6 + 5 = 4.0\n",
            "1 + 4 * 5 / 2 - 7 = 4.0\n",
            "1 * 4 + 6 / 2 - 3 = 4.0\n",
            "1 * 4 - 6 / 2 + 3 = 4.0\n",
            "1 + 4 * 6 / 2 - 9 = 4.0\n",
            "1 * 4 + 6 / 3 - 2 = 4.0\n",
            "1 * 4 - 6 / 3 + 2 = 4.0\n",
            "1 + 4 * 6 / 3 - 5 = 4.0\n",
            "1 - 4 / 6 * 3 + 5 = 4.0\n",
            "1 + 4 / 6 * 9 - 3 = 4.0\n",
            "1 / 4 * 8 - 3 + 5 = 4.0\n",
            "1 / 4 * 8 + 5 - 3 = 4.0\n",
            "1 / 4 * 8 - 5 + 7 = 4.0\n",
            "1 / 4 * 8 + 7 - 5 = 4.0\n",
            "1 / 4 * 8 - 7 + 9 = 4.0\n",
            "1 / 4 * 8 + 9 - 7 = 4.0\n",
            "1 + 4 * 9 / 6 - 3 = 4.0\n",
            "1 + 5 / 2 * 4 - 7 = 4.0\n",
            "1 * 5 + 2 - 9 / 3 = 4.0\n",
            "1 * 5 - 3 + 4 / 2 = 4.0\n",
            "1 + 5 - 3 * 4 / 6 = 4.0\n",
            "1 + 5 - 3 / 6 * 4 = 4.0\n",
            "1 + 5 / 3 * 6 - 7 = 4.0\n",
            "1 + 5 - 3 * 6 / 9 = 4.0\n",
            "1 * 5 + 3 - 8 / 2 = 4.0\n",
            "1 * 5 - 3 + 8 / 4 = 4.0\n",
            "1 + 5 - 3 / 9 * 6 = 4.0\n",
            "1 * 5 + 4 / 2 - 3 = 4.0\n",
            "1 + 5 * 4 / 2 - 7 = 4.0\n",
            "1 + 5 - 4 * 3 / 6 = 4.0\n",
            "1 - 5 + 4 / 3 * 6 = 4.0\n",
            "1 * 5 - 4 + 6 / 2 = 4.0\n",
            "1 + 5 - 4 / 6 * 3 = 4.0\n",
            "1 - 5 + 4 * 6 / 3 = 4.0\n",
            "1 + 5 / 4 * 8 - 7 = 4.0\n",
            "1 * 5 - 4 + 9 / 3 = 4.0\n",
            "1 * 5 + 6 / 2 - 4 = 4.0\n",
            "1 - 5 + 6 / 3 * 4 = 4.0\n",
            "1 + 5 * 6 / 3 - 7 = 4.0\n",
            "1 + 5 - 6 * 3 / 9 = 4.0\n",
            "1 - 5 + 6 * 4 / 3 = 4.0\n",
            "1 + 5 - 6 / 9 * 3 = 4.0\n",
            "1 * 5 - 8 / 2 + 3 = 4.0\n",
            "1 * 5 + 8 / 4 - 3 = 4.0\n",
            "1 + 5 * 8 / 4 - 7 = 4.0\n",
            "1 * 5 - 9 / 3 + 2 = 4.0\n",
            "1 * 5 + 9 / 3 - 4 = 4.0\n",
            "1 * 6 / 2 - 3 + 4 = 4.0\n",
            "1 - 6 * 2 / 3 + 7 = 4.0\n",
            "1 * 6 / 2 + 4 - 3 = 4.0\n",
            "1 * 6 / 2 - 4 + 5 = 4.0\n",
            "1 + 6 / 2 * 4 - 9 = 4.0\n",
            "1 * 6 / 2 + 5 - 4 = 4.0\n",
            "1 * 6 / 2 - 7 + 8 = 4.0\n",
            "1 * 6 / 2 + 8 - 7 = 4.0\n",
            "1 * 6 / 2 - 8 + 9 = 4.0\n",
            "1 * 6 / 2 + 9 - 8 = 4.0\n",
            "1 * 6 / 3 - 2 + 4 = 4.0\n",
            "1 - 6 / 3 * 2 + 7 = 4.0\n",
            "1 * 6 / 3 + 4 - 2 = 4.0\n",
            "1 + 6 / 3 * 4 - 5 = 4.0\n",
            "1 + 6 / 3 * 5 - 7 = 4.0\n",
            "1 * 6 / 3 - 5 + 7 = 4.0\n",
            "1 * 6 / 3 + 7 - 5 = 4.0\n",
            "1 * 6 / 3 - 7 + 9 = 4.0\n",
            "1 - 6 * 3 / 9 + 5 = 4.0\n",
            "1 * 6 / 3 + 9 - 7 = 4.0\n",
            "1 + 6 * 4 / 2 - 9 = 4.0\n",
            "1 + 6 * 4 / 3 - 5 = 4.0\n",
            "1 + 6 / 4 * 8 - 9 = 4.0\n",
            "1 + 6 * 5 / 3 - 7 = 4.0\n",
            "1 * 6 - 5 + 9 / 3 = 4.0\n",
            "1 + 6 * 8 / 4 - 9 = 4.0\n",
            "1 - 6 / 9 * 3 + 5 = 4.0\n",
            "1 * 6 + 9 / 3 - 5 = 4.0\n",
            "1 + 7 - 2 / 3 * 6 = 4.0\n",
            "1 + 7 - 2 / 4 * 8 = 4.0\n",
            "1 + 7 - 2 * 6 / 3 = 4.0\n",
            "1 + 7 - 2 * 8 / 4 = 4.0\n",
            "1 + 7 - 3 / 6 * 8 = 4.0\n",
            "1 + 7 - 3 * 8 / 6 = 4.0\n",
            "1 - 7 + 4 / 2 * 5 = 4.0\n",
            "1 * 7 + 4 / 2 - 5 = 4.0\n",
            "1 - 7 + 4 * 5 / 2 = 4.0\n",
            "1 - 7 + 5 / 2 * 4 = 4.0\n",
            "1 - 7 + 5 / 3 * 6 = 4.0\n",
            "1 - 7 + 5 * 4 / 2 = 4.0\n",
            "1 * 7 - 5 + 4 / 2 = 4.0\n",
            "1 - 7 + 5 / 4 * 8 = 4.0\n",
            "1 - 7 + 5 * 6 / 3 = 4.0\n",
            "1 * 7 - 5 + 6 / 3 = 4.0\n",
            "1 - 7 + 5 * 8 / 4 = 4.0\n",
            "1 * 7 - 5 + 8 / 4 = 4.0\n",
            "1 + 7 - 6 * 2 / 3 = 4.0\n",
            "1 + 7 - 6 / 3 * 2 = 4.0\n",
            "1 - 7 + 6 / 3 * 5 = 4.0\n",
            "1 * 7 + 6 / 3 - 5 = 4.0\n",
            "1 - 7 + 6 * 5 / 3 = 4.0\n",
            "1 * 7 - 6 + 9 / 3 = 4.0\n",
            "1 + 7 - 8 * 2 / 4 = 4.0\n",
            "1 + 7 - 8 * 3 / 6 = 4.0\n",
            "1 + 7 - 8 / 4 * 2 = 4.0\n",
            "1 - 7 + 8 / 4 * 5 = 4.0\n",
            "1 * 7 + 8 / 4 - 5 = 4.0\n",
            "1 - 7 + 8 * 5 / 4 = 4.0\n",
            "1 + 7 - 8 / 6 * 3 = 4.0\n",
            "1 * 7 + 9 / 3 - 6 = 4.0\n",
            "1 + 8 / 2 * 3 - 9 = 4.0\n",
            "1 - 8 * 2 / 4 + 7 = 4.0\n",
            "1 + 8 * 3 / 2 - 9 = 4.0\n",
            "1 - 8 * 3 / 4 + 9 = 4.0\n",
            "1 - 8 * 3 / 6 + 7 = 4.0\n",
            "1 * 8 + 4 / 2 - 6 = 4.0\n",
            "1 - 8 / 4 * 2 + 7 = 4.0\n",
            "1 * 8 / 4 - 3 + 5 = 4.0\n",
            "1 - 8 / 4 * 3 + 9 = 4.0\n",
            "1 * 8 / 4 + 5 - 3 = 4.0\n",
            "1 + 8 / 4 * 5 - 7 = 4.0\n",
            "1 * 8 / 4 - 5 + 7 = 4.0\n",
            "1 + 8 / 4 * 6 - 9 = 4.0\n",
            "1 * 8 / 4 + 7 - 5 = 4.0\n",
            "1 * 8 / 4 - 7 + 9 = 4.0\n",
            "1 * 8 / 4 + 9 - 7 = 4.0\n",
            "1 + 8 * 5 / 4 - 7 = 4.0\n",
            "1 * 8 + 6 / 2 - 7 = 4.0\n",
            "1 - 8 / 6 * 3 + 7 = 4.0\n",
            "1 * 8 - 6 + 4 / 2 = 4.0\n",
            "1 + 8 * 6 / 4 - 9 = 4.0\n",
            "1 * 8 - 7 + 6 / 2 = 4.0\n",
            "1 * 8 - 7 + 9 / 3 = 4.0\n",
            "1 * 8 + 9 / 3 - 7 = 4.0\n",
            "1 + 9 - 3 / 2 * 4 = 4.0\n",
            "1 - 9 + 3 / 2 * 8 = 4.0\n",
            "1 + 9 - 3 * 4 / 2 = 4.0\n",
            "1 * 9 / 3 - 4 + 5 = 4.0\n",
            "1 + 9 - 3 / 4 * 8 = 4.0\n",
            "1 * 9 / 3 + 5 - 4 = 4.0\n",
            "1 * 9 / 3 - 5 + 6 = 4.0\n",
            "1 * 9 / 3 + 6 - 5 = 4.0\n",
            "1 * 9 / 3 - 6 + 7 = 4.0\n",
            "1 * 9 / 3 + 7 - 6 = 4.0\n",
            "1 * 9 / 3 - 7 + 8 = 4.0\n",
            "1 - 9 + 3 * 8 / 2 = 4.0\n",
            "1 + 9 - 3 * 8 / 4 = 4.0\n",
            "1 * 9 / 3 + 8 - 7 = 4.0\n",
            "1 + 9 - 4 / 2 * 3 = 4.0\n",
            "1 - 9 + 4 / 2 * 6 = 4.0\n",
            "1 * 9 + 4 / 2 - 7 = 4.0\n",
            "1 + 9 - 4 * 3 / 2 = 4.0\n",
            "1 - 9 + 4 * 6 / 2 = 4.0\n",
            "1 + 9 * 4 / 6 - 3 = 4.0\n",
            "1 - 9 + 6 / 2 * 4 = 4.0\n",
            "1 * 9 + 6 / 2 - 8 = 4.0\n",
            "1 * 9 + 6 / 3 - 7 = 4.0\n",
            "1 - 9 + 6 * 4 / 2 = 4.0\n",
            "1 + 9 / 6 * 4 - 3 = 4.0\n",
            "1 - 9 + 6 / 4 * 8 = 4.0\n",
            "1 - 9 + 6 * 8 / 4 = 4.0\n",
            "1 * 9 - 7 + 4 / 2 = 4.0\n",
            "1 * 9 - 7 + 6 / 3 = 4.0\n",
            "1 * 9 - 7 + 8 / 4 = 4.0\n",
            "1 - 9 + 8 / 2 * 3 = 4.0\n",
            "1 - 9 + 8 * 3 / 2 = 4.0\n",
            "1 + 9 - 8 * 3 / 4 = 4.0\n",
            "1 + 9 - 8 / 4 * 3 = 4.0\n",
            "1 - 9 + 8 / 4 * 6 = 4.0\n",
            "1 * 9 + 8 / 4 - 7 = 4.0\n",
            "1 * 9 - 8 + 6 / 2 = 4.0\n",
            "1 - 9 + 8 * 6 / 4 = 4.0\n",
            "2 / 1 * 3 + 4 - 6 = 4.0\n",
            "2 / 1 * 3 + 5 - 7 = 4.0\n",
            "2 - 1 / 3 * 6 + 4 = 4.0\n",
            "2 / 1 * 3 - 6 + 4 = 4.0\n",
            "2 / 1 * 3 + 6 - 8 = 4.0\n",
            "2 / 1 * 3 - 7 + 5 = 4.0\n",
            "2 / 1 * 3 + 7 - 9 = 4.0\n",
            "2 / 1 * 3 - 8 + 6 = 4.0\n",
            "2 - 1 / 3 * 9 + 5 = 4.0\n",
            "2 / 1 * 3 - 9 + 7 = 4.0\n",
            "2 / 1 * 4 + 3 - 7 = 4.0\n",
            "2 / 1 * 4 + 5 - 9 = 4.0\n",
            "2 + 1 * 4 - 6 / 3 = 4.0\n",
            "2 * 1 + 4 - 6 / 3 = 4.0\n",
            "2 - 1 + 4 * 6 / 8 = 4.0\n",
            "2 / 1 * 4 - 7 + 3 = 4.0\n",
            "2 - 1 + 4 / 8 * 6 = 4.0\n",
            "2 / 1 * 4 - 9 + 5 = 4.0\n",
            "2 / 1 * 5 + 3 - 9 = 4.0\n",
            "2 + 1 * 5 - 9 / 3 = 4.0\n",
            "2 * 1 + 5 - 9 / 3 = 4.0\n",
            "2 / 1 * 5 - 9 + 3 = 4.0\n",
            "2 - 1 * 6 / 3 + 4 = 4.0\n",
            "2 * 1 - 6 / 3 + 4 = 4.0\n",
            "2 - 1 + 6 * 4 / 8 = 4.0\n",
            "2 - 1 + 6 / 8 * 4 = 4.0\n",
            "2 - 1 * 9 / 3 + 5 = 4.0\n",
            "2 * 1 - 9 / 3 + 5 = 4.0\n",
            "2 * 3 / 1 + 4 - 6 = 4.0\n",
            "2 * 3 / 1 + 5 - 7 = 4.0\n",
            "2 * 3 / 1 - 6 + 4 = 4.0\n",
            "2 * 3 / 1 + 6 - 8 = 4.0\n",
            "2 * 3 / 1 - 7 + 5 = 4.0\n",
            "2 * 3 / 1 + 7 - 9 = 4.0\n",
            "2 * 3 / 1 - 8 + 6 = 4.0\n",
            "2 * 3 / 1 - 9 + 7 = 4.0\n",
            "2 * 3 + 4 / 1 - 6 = 4.0\n",
            "2 * 3 + 4 - 6 / 1 = 4.0\n",
            "2 * 3 + 5 / 1 - 7 = 4.0\n",
            "2 * 3 + 5 - 7 / 1 = 4.0\n",
            "2 * 3 - 6 / 1 + 4 = 4.0\n",
            "2 * 3 / 6 - 1 + 4 = 4.0\n",
            "2 * 3 + 6 / 1 - 8 = 4.0\n",
            "2 * 3 - 6 + 4 / 1 = 4.0\n",
            "2 * 3 / 6 + 4 - 1 = 4.0\n",
            "2 * 3 / 6 - 4 + 7 = 4.0\n",
            "2 * 3 / 6 - 5 + 8 = 4.0\n",
            "2 * 3 / 6 + 7 - 4 = 4.0\n",
            "2 * 3 + 6 - 8 / 1 = 4.0\n",
            "2 * 3 / 6 + 8 - 5 = 4.0\n",
            "2 - 3 * 6 / 9 + 4 = 4.0\n",
            "2 * 3 - 7 / 1 + 5 = 4.0\n",
            "2 * 3 + 7 / 1 - 9 = 4.0\n",
            "2 * 3 - 7 + 5 / 1 = 4.0\n",
            "2 * 3 + 7 - 9 / 1 = 4.0\n",
            "2 * 3 - 8 / 1 + 6 = 4.0\n",
            "2 * 3 - 8 + 6 / 1 = 4.0\n",
            "2 * 3 - 9 / 1 + 7 = 4.0\n",
            "2 / 3 * 9 + 4 - 6 = 4.0\n",
            "2 / 3 * 9 + 5 - 7 = 4.0\n",
            "2 - 3 / 9 * 6 + 4 = 4.0\n",
            "2 / 3 * 9 - 6 + 4 = 4.0\n",
            "2 / 3 * 9 + 6 - 8 = 4.0\n",
            "2 * 3 - 9 + 7 / 1 = 4.0\n",
            "2 / 3 * 9 - 7 + 5 = 4.0\n",
            "2 / 3 * 9 - 8 + 6 = 4.0\n",
            "2 + 4 - 1 / 3 * 6 = 4.0\n",
            "2 * 4 / 1 + 3 - 7 = 4.0\n",
            "2 * 4 / 1 + 5 - 9 = 4.0\n",
            "2 + 4 - 1 * 6 / 3 = 4.0\n",
            "2 + 4 * 1 - 6 / 3 = 4.0\n",
            "2 * 4 / 1 - 7 + 3 = 4.0\n",
            "2 * 4 / 1 - 9 + 5 = 4.0\n",
            "2 * 4 + 3 / 1 - 7 = 4.0\n",
            "2 + 4 - 3 * 6 / 9 = 4.0\n",
            "2 * 4 + 3 - 7 / 1 = 4.0\n",
            "2 + 4 - 3 / 9 * 6 = 4.0\n",
            "2 * 4 + 5 / 1 - 9 = 4.0\n",
            "2 * 4 + 5 - 9 / 1 = 4.0\n",
            "2 + 4 - 6 * 1 / 3 = 4.0\n",
            "2 + 4 - 6 / 3 * 1 = 4.0\n",
            "2 + 4 - 6 * 3 / 9 = 4.0\n",
            "2 / 4 * 6 - 7 + 8 = 4.0\n",
            "2 + 4 * 6 / 8 - 1 = 4.0\n",
            "2 - 4 * 6 / 8 + 5 = 4.0\n",
            "2 / 4 * 6 + 8 - 7 = 4.0\n",
            "2 / 4 * 6 - 8 + 9 = 4.0\n",
            "2 + 4 - 6 / 9 * 3 = 4.0\n",
            "2 - 4 / 6 * 9 + 8 = 4.0\n",
            "2 / 4 * 6 + 9 - 8 = 4.0\n",
            "2 * 4 - 7 / 1 + 3 = 4.0\n",
            "2 * 4 - 7 + 3 / 1 = 4.0\n",
            "2 * 4 - 7 + 9 / 3 = 4.0\n",
            "2 * 4 / 8 - 3 + 6 = 4.0\n",
            "2 + 4 / 8 * 6 - 1 = 4.0\n",
            "2 * 4 / 8 + 6 - 3 = 4.0\n",
            "2 - 4 / 8 * 6 + 5 = 4.0\n",
            "2 * 4 / 8 - 6 + 9 = 4.0\n",
            "2 * 4 / 8 + 9 - 6 = 4.0\n",
            "2 * 4 - 9 / 1 + 5 = 4.0\n",
            "2 * 4 + 9 / 3 - 7 = 4.0\n",
            "2 * 4 - 9 + 5 / 1 = 4.0\n",
            "2 - 4 * 9 / 6 + 8 = 4.0\n",
            "2 + 5 - 1 / 3 * 9 = 4.0\n",
            "2 * 5 / 1 + 3 - 9 = 4.0\n",
            "2 + 5 - 1 * 9 / 3 = 4.0\n",
            "2 + 5 * 1 - 9 / 3 = 4.0\n",
            "2 * 5 / 1 - 9 + 3 = 4.0\n",
            "2 * 5 + 3 / 1 - 9 = 4.0\n",
            "2 + 5 / 3 * 6 - 8 = 4.0\n",
            "2 * 5 + 3 - 9 / 1 = 4.0\n",
            "2 + 5 - 4 * 6 / 8 = 4.0\n",
            "2 + 5 - 4 / 8 * 6 = 4.0\n",
            "2 + 5 * 6 / 3 - 8 = 4.0\n",
            "2 * 5 + 6 / 3 - 8 = 4.0\n",
            "2 + 5 - 6 * 4 / 8 = 4.0\n",
            "2 + 5 - 6 / 8 * 4 = 4.0\n",
            "2 * 5 - 8 + 6 / 3 = 4.0\n",
            "2 + 5 - 9 * 1 / 3 = 4.0\n",
            "2 * 5 - 9 / 1 + 3 = 4.0\n",
            "2 + 5 - 9 / 3 * 1 = 4.0\n",
            "2 * 5 - 9 + 3 / 1 = 4.0\n",
            "2 - 6 * 1 / 3 + 4 = 4.0\n",
            "2 - 6 / 3 + 1 * 4 = 4.0\n",
            "2 - 6 / 3 * 1 + 4 = 4.0\n",
            "2 / 6 * 3 - 1 + 4 = 4.0\n",
            "2 - 6 / 3 + 4 * 1 = 4.0\n",
            "2 / 6 * 3 + 4 - 1 = 4.0\n",
            "2 / 6 * 3 - 4 + 7 = 4.0\n",
            "2 + 6 / 3 * 5 - 8 = 4.0\n",
            "2 / 6 * 3 - 5 + 8 = 4.0\n",
            "2 / 6 * 3 + 7 - 4 = 4.0\n",
            "2 / 6 * 3 + 8 - 5 = 4.0\n",
            "2 - 6 * 3 / 9 + 4 = 4.0\n",
            "2 * 6 / 4 - 7 + 8 = 4.0\n",
            "2 + 6 * 4 / 8 - 1 = 4.0\n",
            "2 - 6 * 4 / 8 + 5 = 4.0\n",
            "2 * 6 / 4 + 8 - 7 = 4.0\n",
            "2 * 6 / 4 - 8 + 9 = 4.0\n",
            "2 * 6 / 4 + 9 - 8 = 4.0\n",
            "2 + 6 * 5 / 3 - 8 = 4.0\n",
            "2 + 6 / 8 * 4 - 1 = 4.0\n",
            "2 - 6 / 8 * 4 + 5 = 4.0\n",
            "2 - 6 / 9 * 3 + 4 = 4.0\n",
            "2 / 6 * 9 - 3 + 4 = 4.0\n",
            "2 / 6 * 9 + 4 - 3 = 4.0\n",
            "2 / 6 * 9 - 4 + 5 = 4.0\n",
            "2 / 6 * 9 + 5 - 4 = 4.0\n",
            "2 / 6 * 9 - 7 + 8 = 4.0\n",
            "2 / 6 * 9 + 8 - 7 = 4.0\n",
            "2 / 8 * 4 - 3 + 6 = 4.0\n",
            "2 / 8 * 4 + 6 - 3 = 4.0\n",
            "2 + 8 - 4 / 6 * 9 = 4.0\n",
            "2 / 8 * 4 - 6 + 9 = 4.0\n",
            "2 + 8 - 4 * 9 / 6 = 4.0\n",
            "2 / 8 * 4 + 9 - 6 = 4.0\n",
            "2 - 8 + 5 / 3 * 6 = 4.0\n",
            "2 - 8 + 5 * 6 / 3 = 4.0\n",
            "2 - 8 + 6 / 3 * 5 = 4.0\n",
            "2 - 8 + 6 * 5 / 3 = 4.0\n",
            "2 + 8 - 9 * 4 / 6 = 4.0\n",
            "2 + 8 - 9 / 6 * 4 = 4.0\n",
            "2 - 9 * 1 / 3 + 5 = 4.0\n",
            "2 - 9 / 3 + 1 * 5 = 4.0\n",
            "2 - 9 / 3 * 1 + 5 = 4.0\n",
            "2 * 9 / 3 + 4 - 6 = 4.0\n",
            "2 - 9 / 3 + 5 * 1 = 4.0\n",
            "2 * 9 / 3 + 5 - 7 = 4.0\n",
            "2 * 9 / 3 - 6 + 4 = 4.0\n",
            "2 * 9 / 3 + 6 - 8 = 4.0\n",
            "2 * 9 / 3 - 7 + 5 = 4.0\n",
            "2 * 9 / 3 - 8 + 6 = 4.0\n",
            "2 - 9 * 4 / 6 + 8 = 4.0\n",
            "2 * 9 / 6 - 3 + 4 = 4.0\n",
            "2 * 9 / 6 + 4 - 3 = 4.0\n",
            "2 * 9 / 6 - 4 + 5 = 4.0\n",
            "2 - 9 / 6 * 4 + 8 = 4.0\n",
            "2 * 9 / 6 + 5 - 4 = 4.0\n",
            "2 * 9 / 6 - 7 + 8 = 4.0\n",
            "2 * 9 / 6 + 8 - 7 = 4.0\n",
            "3 / 1 * 2 + 4 - 6 = 4.0\n",
            "3 / 1 + 2 * 4 - 7 = 4.0\n",
            "3 / 1 - 2 * 4 + 9 = 4.0\n",
            "3 / 1 * 2 + 5 - 7 = 4.0\n",
            "3 / 1 + 2 * 5 - 9 = 4.0\n",
            "3 - 1 / 2 * 6 + 4 = 4.0\n",
            "3 / 1 * 2 - 6 + 4 = 4.0\n",
            "3 / 1 * 2 + 6 - 8 = 4.0\n",
            "3 / 1 * 2 - 7 + 5 = 4.0\n",
            "3 / 1 * 2 + 7 - 9 = 4.0\n",
            "3 - 1 / 2 * 8 + 5 = 4.0\n",
            "3 / 1 * 2 - 8 + 6 = 4.0\n",
            "3 / 1 * 2 - 9 + 7 = 4.0\n",
            "3 / 1 + 4 * 2 - 7 = 4.0\n",
            "3 / 1 - 4 * 2 + 9 = 4.0\n",
            "3 + 1 * 4 - 6 / 2 = 4.0\n",
            "3 * 1 + 4 - 6 / 2 = 4.0\n",
            "3 / 1 + 5 * 2 - 9 = 4.0\n",
            "3 + 1 * 5 - 8 / 2 = 4.0\n",
            "3 * 1 + 5 - 8 / 2 = 4.0\n",
            "3 - 1 * 6 / 2 + 4 = 4.0\n",
            "3 * 1 - 6 / 2 + 4 = 4.0\n",
            "3 / 1 - 7 + 2 * 4 = 4.0\n",
            "3 / 1 - 7 + 4 * 2 = 4.0\n",
            "3 - 1 * 8 / 2 + 5 = 4.0\n",
            "3 * 1 - 8 / 2 + 5 = 4.0\n",
            "3 / 1 + 9 - 2 * 4 = 4.0\n",
            "3 / 1 - 9 + 2 * 5 = 4.0\n",
            "3 / 1 + 9 - 4 * 2 = 4.0\n",
            "3 / 1 - 9 + 5 * 2 = 4.0\n",
            "3 * 2 / 1 + 4 - 6 = 4.0\n",
            "3 + 2 / 1 * 4 - 7 = 4.0\n",
            "3 - 2 / 1 * 4 + 9 = 4.0\n",
            "3 * 2 / 1 + 5 - 7 = 4.0\n",
            "3 + 2 / 1 * 5 - 9 = 4.0\n",
            "3 * 2 / 1 - 6 + 4 = 4.0\n",
            "3 * 2 / 1 + 6 - 8 = 4.0\n",
            "3 * 2 / 1 - 7 + 5 = 4.0\n",
            "3 * 2 / 1 + 7 - 9 = 4.0\n",
            "3 * 2 / 1 - 8 + 6 = 4.0\n",
            "3 * 2 / 1 - 9 + 7 = 4.0\n",
            "3 * 2 + 4 / 1 - 6 = 4.0\n",
            "3 + 2 * 4 / 1 - 7 = 4.0\n",
            "3 - 2 * 4 / 1 + 9 = 4.0\n",
            "3 / 2 * 4 + 5 - 7 = 4.0\n",
            "3 * 2 + 4 - 6 / 1 = 4.0\n",
            "3 - 2 + 4 * 6 / 8 = 4.0\n",
            "3 / 2 * 4 + 6 - 8 = 4.0\n",
            "3 + 2 * 4 - 7 / 1 = 4.0\n",
            "3 / 2 * 4 - 7 + 5 = 4.0\n",
            "3 / 2 * 4 + 7 - 9 = 4.0\n",
            "3 - 2 / 4 * 8 + 5 = 4.0\n",
            "3 - 2 + 4 / 8 * 6 = 4.0\n",
            "3 / 2 * 4 - 8 + 6 = 4.0\n",
            "3 - 2 * 4 + 9 / 1 = 4.0\n",
            "3 / 2 * 4 - 9 + 7 = 4.0\n",
            "3 * 2 + 5 / 1 - 7 = 4.0\n",
            "3 + 2 * 5 / 1 - 9 = 4.0\n",
            "3 * 2 + 5 - 7 / 1 = 4.0\n",
            "3 + 2 * 5 - 9 / 1 = 4.0\n",
            "3 * 2 - 6 / 1 + 4 = 4.0\n",
            "3 * 2 / 6 - 1 + 4 = 4.0\n",
            "3 * 2 + 6 / 1 - 8 = 4.0\n",
            "3 * 2 - 6 + 4 / 1 = 4.0\n",
            "3 * 2 / 6 + 4 - 1 = 4.0\n",
            "3 * 2 / 6 - 4 + 7 = 4.0\n",
            "3 - 2 + 6 * 4 / 8 = 4.0\n",
            "3 / 2 * 6 + 4 - 9 = 4.0\n",
            "3 * 2 / 6 - 5 + 8 = 4.0\n",
            "3 * 2 / 6 + 7 - 4 = 4.0\n",
            "3 * 2 + 6 - 8 / 1 = 4.0\n",
            "3 - 2 + 6 / 8 * 4 = 4.0\n",
            "3 * 2 / 6 + 8 - 5 = 4.0\n",
            "3 - 2 / 6 * 9 + 4 = 4.0\n",
            "3 / 2 * 6 - 9 + 4 = 4.0\n",
            "3 * 2 - 7 / 1 + 5 = 4.0\n",
            "3 * 2 + 7 / 1 - 9 = 4.0\n",
            "3 * 2 - 7 + 5 / 1 = 4.0\n",
            "3 * 2 + 7 - 9 / 1 = 4.0\n",
            "3 * 2 - 8 / 1 + 6 = 4.0\n",
            "3 / 2 * 8 + 1 - 9 = 4.0\n",
            "3 - 2 * 8 / 4 + 5 = 4.0\n",
            "3 * 2 - 8 + 6 / 1 = 4.0\n",
            "3 / 2 * 8 - 9 + 1 = 4.0\n",
            "3 * 2 - 9 / 1 + 7 = 4.0\n",
            "3 - 2 * 9 / 6 + 4 = 4.0\n",
            "3 * 2 - 9 + 7 / 1 = 4.0\n",
            "3 + 4 - 1 / 2 * 6 = 4.0\n",
            "3 + 4 / 1 * 2 - 7 = 4.0\n",
            "3 - 4 / 1 * 2 + 9 = 4.0\n",
            "3 + 4 - 1 * 6 / 2 = 4.0\n",
            "3 + 4 * 1 - 6 / 2 = 4.0\n",
            "3 + 4 * 2 / 1 - 7 = 4.0\n",
            "3 - 4 * 2 / 1 + 9 = 4.0\n",
            "3 * 4 / 2 + 5 - 7 = 4.0\n",
            "3 + 4 / 2 * 5 - 9 = 4.0\n",
            "3 * 4 / 2 + 6 - 8 = 4.0\n",
            "3 + 4 - 2 / 6 * 9 = 4.0\n",
            "3 + 4 * 2 - 7 / 1 = 4.0\n",
            "3 * 4 / 2 - 7 + 5 = 4.0\n",
            "3 * 4 / 2 + 7 - 9 = 4.0\n",
            "3 * 4 / 2 - 8 + 6 = 4.0\n",
            "3 - 4 * 2 + 9 / 1 = 4.0\n",
            "3 + 4 - 2 * 9 / 6 = 4.0\n",
            "3 * 4 / 2 - 9 + 7 = 4.0\n",
            "3 + 4 * 5 / 2 - 9 = 4.0\n",
            "3 + 4 - 6 * 1 / 2 = 4.0\n",
            "3 + 4 - 6 / 2 * 1 = 4.0\n",
            "3 * 4 / 6 - 5 + 7 = 4.0\n",
            "3 * 4 / 6 + 7 - 5 = 4.0\n",
            "3 * 4 / 6 - 7 + 9 = 4.0\n",
            "3 + 4 * 6 / 8 - 2 = 4.0\n",
            "3 + 4 / 6 * 9 - 5 = 4.0\n",
            "3 - 4 / 6 * 9 + 7 = 4.0\n",
            "3 * 4 / 6 + 9 - 7 = 4.0\n",
            "3 / 4 * 8 + 5 - 7 = 4.0\n",
            "3 + 4 / 8 * 6 - 2 = 4.0\n",
            "3 / 4 * 8 - 7 + 5 = 4.0\n",
            "3 / 4 * 8 + 7 - 9 = 4.0\n",
            "3 / 4 * 8 - 9 + 7 = 4.0\n",
            "3 + 4 - 9 * 2 / 6 = 4.0\n",
            "3 + 4 - 9 / 6 * 2 = 4.0\n",
            "3 + 4 * 9 / 6 - 5 = 4.0\n",
            "3 - 4 * 9 / 6 + 7 = 4.0\n",
            "3 + 5 - 1 / 2 * 8 = 4.0\n",
            "3 + 5 / 1 * 2 - 9 = 4.0\n",
            "3 + 5 - 1 * 8 / 2 = 4.0\n",
            "3 + 5 * 1 - 8 / 2 = 4.0\n",
            "3 + 5 * 2 / 1 - 9 = 4.0\n",
            "3 + 5 - 2 / 4 * 8 = 4.0\n",
            "3 + 5 / 2 * 4 - 9 = 4.0\n",
            "3 + 5 - 2 * 8 / 4 = 4.0\n",
            "3 + 5 * 2 - 9 / 1 = 4.0\n",
            "3 + 5 * 4 / 2 - 9 = 4.0\n",
            "3 - 5 + 4 / 6 * 9 = 4.0\n",
            "3 + 5 / 4 * 8 - 9 = 4.0\n",
            "3 - 5 + 4 * 9 / 6 = 4.0\n",
            "3 + 5 - 8 * 1 / 2 = 4.0\n",
            "3 + 5 - 8 / 2 * 1 = 4.0\n",
            "3 + 5 - 8 * 2 / 4 = 4.0\n",
            "3 + 5 - 8 / 4 * 2 = 4.0\n",
            "3 + 5 * 8 / 4 - 9 = 4.0\n",
            "3 - 5 + 9 * 4 / 6 = 4.0\n",
            "3 - 5 + 9 / 6 * 4 = 4.0\n",
            "3 - 6 * 1 / 2 + 4 = 4.0\n",
            "3 - 6 / 2 + 1 * 4 = 4.0\n",
            "3 - 6 / 2 * 1 + 4 = 4.0\n",
            "3 / 6 * 2 - 1 + 4 = 4.0\n",
            "3 - 6 / 2 + 4 * 1 = 4.0\n",
            "3 / 6 * 2 + 4 - 1 = 4.0\n",
            "3 / 6 * 2 - 4 + 7 = 4.0\n",
            "3 * 6 / 2 + 4 - 9 = 4.0\n",
            "3 / 6 * 2 - 5 + 8 = 4.0\n",
            "3 / 6 * 2 + 7 - 4 = 4.0\n",
            "3 / 6 * 2 + 8 - 5 = 4.0\n",
            "3 * 6 / 2 - 9 + 4 = 4.0\n",
            "3 / 6 * 4 - 5 + 7 = 4.0\n",
            "3 / 6 * 4 + 7 - 5 = 4.0\n",
            "3 / 6 * 4 - 7 + 9 = 4.0\n",
            "3 + 6 * 4 / 8 - 2 = 4.0\n",
            "3 / 6 * 4 + 9 - 7 = 4.0\n",
            "3 + 6 / 8 * 4 - 2 = 4.0\n",
            "3 * 6 / 9 - 2 + 4 = 4.0\n",
            "3 * 6 / 9 + 4 - 2 = 4.0\n",
            "3 * 6 / 9 - 5 + 7 = 4.0\n",
            "3 * 6 / 9 + 7 - 5 = 4.0\n",
            "3 - 7 / 1 + 2 * 4 = 4.0\n",
            "3 - 7 / 1 + 4 * 2 = 4.0\n",
            "3 - 7 + 2 / 1 * 4 = 4.0\n",
            "3 - 7 + 2 * 4 / 1 = 4.0\n",
            "3 - 7 + 4 / 1 * 2 = 4.0\n",
            "3 - 7 + 4 * 2 / 1 = 4.0\n",
            "3 + 7 - 4 / 6 * 9 = 4.0\n",
            "3 + 7 - 4 * 9 / 6 = 4.0\n",
            "3 + 7 - 9 * 4 / 6 = 4.0\n",
            "3 + 7 - 9 / 6 * 4 = 4.0\n",
            "3 - 8 * 1 / 2 + 5 = 4.0\n",
            "3 - 8 / 2 + 1 * 5 = 4.0\n",
            "3 - 8 / 2 * 1 + 5 = 4.0\n",
            "3 * 8 / 2 + 1 - 9 = 4.0\n",
            "3 - 8 * 2 / 4 + 5 = 4.0\n",
            "3 - 8 / 2 + 5 * 1 = 4.0\n",
            "3 * 8 / 2 - 9 + 1 = 4.0\n",
            "3 - 8 / 4 * 2 + 5 = 4.0\n",
            "3 * 8 / 4 + 5 - 7 = 4.0\n",
            "3 + 8 / 4 * 5 - 9 = 4.0\n",
            "3 * 8 / 4 - 7 + 5 = 4.0\n",
            "3 * 8 / 4 + 7 - 9 = 4.0\n",
            "3 * 8 / 4 - 9 + 7 = 4.0\n",
            "3 + 8 * 5 / 4 - 9 = 4.0\n",
            "3 + 9 / 1 - 2 * 4 = 4.0\n",
            "3 - 9 / 1 + 2 * 5 = 4.0\n",
            "3 + 9 / 1 - 4 * 2 = 4.0\n",
            "3 - 9 / 1 + 5 * 2 = 4.0\n",
            "3 + 9 - 2 / 1 * 4 = 4.0\n",
            "3 - 9 + 2 / 1 * 5 = 4.0\n",
            "3 + 9 - 2 * 4 / 1 = 4.0\n",
            "3 - 9 + 2 * 5 / 1 = 4.0\n",
            "3 - 9 * 2 / 6 + 4 = 4.0\n",
            "3 + 9 - 4 / 1 * 2 = 4.0\n",
            "3 + 9 - 4 * 2 / 1 = 4.0\n",
            "3 - 9 + 4 / 2 * 5 = 4.0\n",
            "3 - 9 + 4 * 5 / 2 = 4.0\n",
            "3 + 9 * 4 / 6 - 5 = 4.0\n",
            "3 - 9 * 4 / 6 + 7 = 4.0\n",
            "3 - 9 + 5 / 1 * 2 = 4.0\n",
            "3 - 9 + 5 * 2 / 1 = 4.0\n",
            "3 - 9 + 5 / 2 * 4 = 4.0\n",
            "3 - 9 + 5 * 4 / 2 = 4.0\n",
            "3 - 9 + 5 / 4 * 8 = 4.0\n",
            "3 - 9 + 5 * 8 / 4 = 4.0\n",
            "3 - 9 / 6 * 2 + 4 = 4.0\n",
            "3 / 9 * 6 - 2 + 4 = 4.0\n",
            "3 / 9 * 6 + 4 - 2 = 4.0\n",
            "3 + 9 / 6 * 4 - 5 = 4.0\n",
            "3 - 9 / 6 * 4 + 7 = 4.0\n",
            "3 / 9 * 6 - 5 + 7 = 4.0\n",
            "3 / 9 * 6 + 7 - 5 = 4.0\n",
            "3 - 9 + 8 / 4 * 5 = 4.0\n",
            "3 - 9 + 8 * 5 / 4 = 4.0\n",
            "4 * 1 / 2 - 3 + 5 = 4.0\n",
            "4 + 1 - 2 * 3 / 6 = 4.0\n",
            "4 - 1 + 2 * 3 / 6 = 4.0\n",
            "4 / 1 + 2 * 3 - 6 = 4.0\n",
            "4 / 1 - 2 * 3 + 6 = 4.0\n",
            "4 / 1 * 2 + 3 - 7 = 4.0\n",
            "4 * 1 / 2 + 5 - 3 = 4.0\n",
            "4 * 1 / 2 - 5 + 7 = 4.0\n",
            "4 / 1 * 2 + 5 - 9 = 4.0\n",
            "4 + 1 - 2 / 6 * 3 = 4.0\n",
            "4 + 1 * 2 - 6 / 3 = 4.0\n",
            "4 + 1 / 2 * 6 - 3 = 4.0\n",
            "4 - 1 + 2 / 6 * 3 = 4.0\n",
            "4 - 1 * 2 + 6 / 3 = 4.0\n",
            "4 - 1 / 2 * 6 + 3 = 4.0\n",
            "4 * 1 + 2 - 6 / 3 = 4.0\n",
            "4 * 1 - 2 + 6 / 3 = 4.0\n",
            "4 * 1 / 2 - 6 + 8 = 4.0\n",
            "4 / 1 * 2 - 7 + 3 = 4.0\n",
            "4 * 1 / 2 + 7 - 5 = 4.0\n",
            "4 * 1 / 2 - 7 + 9 = 4.0\n",
            "4 * 1 / 2 + 8 - 6 = 4.0\n",
            "4 / 1 * 2 - 9 + 5 = 4.0\n",
            "4 * 1 / 2 + 9 - 7 = 4.0\n",
            "4 + 1 - 3 * 2 / 6 = 4.0\n",
            "4 - 1 + 3 * 2 / 6 = 4.0\n",
            "4 / 1 + 3 * 2 - 6 = 4.0\n",
            "4 / 1 - 3 * 2 + 6 = 4.0\n",
            "4 + 1 - 3 / 6 * 2 = 4.0\n",
            "4 + 1 * 3 - 6 / 2 = 4.0\n",
            "4 + 1 / 3 * 6 - 2 = 4.0\n",
            "4 - 1 + 3 / 6 * 2 = 4.0\n",
            "4 - 1 * 3 + 6 / 2 = 4.0\n",
            "4 - 1 / 3 * 6 + 2 = 4.0\n",
            "4 * 1 + 3 - 6 / 2 = 4.0\n",
            "4 * 1 - 3 + 6 / 2 = 4.0\n",
            "4 + 1 * 6 / 2 - 3 = 4.0\n",
            "4 - 1 * 6 / 2 + 3 = 4.0\n",
            "4 * 1 + 6 / 2 - 3 = 4.0\n",
            "4 * 1 - 6 / 2 + 3 = 4.0\n",
            "4 / 1 + 6 - 2 * 3 = 4.0\n",
            "4 / 1 - 6 + 2 * 3 = 4.0\n",
            "4 + 1 * 6 / 3 - 2 = 4.0\n",
            "4 - 1 * 6 / 3 + 2 = 4.0\n",
            "4 * 1 + 6 / 3 - 2 = 4.0\n",
            "4 * 1 - 6 / 3 + 2 = 4.0\n",
            "4 / 1 + 6 - 3 * 2 = 4.0\n",
            "4 / 1 - 6 + 3 * 2 = 4.0\n",
            "4 / 2 - 1 * 3 + 5 = 4.0\n",
            "4 / 2 * 1 - 3 + 5 = 4.0\n",
            "4 + 2 - 1 / 3 * 6 = 4.0\n",
            "4 + 2 / 1 * 3 - 6 = 4.0\n",
            "4 - 2 + 1 / 3 * 6 = 4.0\n",
            "4 - 2 / 1 * 3 + 6 = 4.0\n",
            "4 * 2 / 1 + 3 - 7 = 4.0\n",
            "4 / 2 + 1 * 5 - 3 = 4.0\n",
            "4 / 2 * 1 + 5 - 3 = 4.0\n",
            "4 / 2 - 1 * 5 + 7 = 4.0\n",
            "4 / 2 * 1 - 5 + 7 = 4.0\n",
            "4 * 2 / 1 + 5 - 9 = 4.0\n",
            "4 + 2 - 1 * 6 / 3 = 4.0\n",
            "4 + 2 * 1 - 6 / 3 = 4.0\n",
            "4 - 2 + 1 * 6 / 3 = 4.0\n",
            "4 - 2 * 1 + 6 / 3 = 4.0\n",
            "4 / 2 - 1 * 6 + 8 = 4.0\n",
            "4 / 2 * 1 - 6 + 8 = 4.0\n",
            "4 * 2 / 1 - 7 + 3 = 4.0\n",
            "4 / 2 + 1 * 7 - 5 = 4.0\n",
            "4 / 2 * 1 + 7 - 5 = 4.0\n",
            "4 / 2 - 1 * 7 + 9 = 4.0\n",
            "4 / 2 * 1 - 7 + 9 = 4.0\n",
            "4 / 2 + 1 * 8 - 6 = 4.0\n",
            "4 / 2 * 1 + 8 - 6 = 4.0\n",
            "4 * 2 / 1 - 9 + 5 = 4.0\n",
            "4 / 2 + 1 * 9 - 7 = 4.0\n",
            "4 / 2 * 1 + 9 - 7 = 4.0\n",
            "4 / 2 - 3 + 1 * 5 = 4.0\n",
            "4 / 2 - 3 * 1 + 5 = 4.0\n",
            "4 + 2 * 3 / 1 - 6 = 4.0\n",
            "4 - 2 * 3 / 1 + 6 = 4.0\n",
            "4 * 2 + 3 / 1 - 7 = 4.0\n",
            "4 / 2 - 3 + 5 * 1 = 4.0\n",
            "4 / 2 * 3 + 5 - 7 = 4.0\n",
            "4 + 2 * 3 - 6 / 1 = 4.0\n",
            "4 + 2 * 3 / 6 - 1 = 4.0\n",
            "4 - 2 * 3 + 6 / 1 = 4.0\n",
            "4 - 2 * 3 / 6 + 1 = 4.0\n",
            "4 / 2 * 3 + 6 - 8 = 4.0\n",
            "4 + 2 - 3 * 6 / 9 = 4.0\n",
            "4 - 2 + 3 * 6 / 9 = 4.0\n",
            "4 * 2 + 3 - 7 / 1 = 4.0\n",
            "4 / 2 * 3 - 7 + 5 = 4.0\n",
            "4 / 2 * 3 + 7 - 9 = 4.0\n",
            "4 / 2 * 3 - 8 + 6 = 4.0\n",
            "4 + 2 - 3 / 9 * 6 = 4.0\n",
            "4 + 2 / 3 * 9 - 6 = 4.0\n",
            "4 - 2 + 3 / 9 * 6 = 4.0\n",
            "4 - 2 / 3 * 9 + 6 = 4.0\n",
            "4 / 2 * 3 - 9 + 7 = 4.0\n",
            "4 / 2 + 5 - 1 * 3 = 4.0\n",
            "4 / 2 + 5 * 1 - 3 = 4.0\n",
            "4 / 2 - 5 + 1 * 7 = 4.0\n",
            "4 / 2 - 5 * 1 + 7 = 4.0\n",
            "4 / 2 * 5 + 1 - 7 = 4.0\n",
            "4 * 2 + 5 / 1 - 9 = 4.0\n",
            "4 / 2 + 5 - 3 * 1 = 4.0\n",
            "4 / 2 * 5 + 3 - 9 = 4.0\n",
            "4 / 2 - 5 + 7 * 1 = 4.0\n",
            "4 / 2 * 5 - 7 + 1 = 4.0\n",
            "4 * 2 + 5 - 9 / 1 = 4.0\n",
            "4 / 2 * 5 - 9 + 3 = 4.0\n",
            "4 + 2 - 6 * 1 / 3 = 4.0\n",
            "4 - 2 + 6 * 1 / 3 = 4.0\n",
            "4 / 2 - 6 + 1 * 8 = 4.0\n",
            "4 / 2 - 6 * 1 + 8 = 4.0\n",
            "4 / 2 * 6 + 1 - 9 = 4.0\n",
            "4 + 2 - 6 / 3 * 1 = 4.0\n",
            "4 + 2 / 6 * 3 - 1 = 4.0\n",
            "4 - 2 + 6 / 3 * 1 = 4.0\n",
            "4 - 2 / 6 * 3 + 1 = 4.0\n",
            "4 + 2 - 6 * 3 / 9 = 4.0\n",
            "4 - 2 + 6 * 3 / 9 = 4.0\n",
            "4 / 2 - 6 + 8 * 1 = 4.0\n",
            "4 / 2 * 6 - 9 + 1 = 4.0\n",
            "4 + 2 - 6 / 9 * 3 = 4.0\n",
            "4 + 2 / 6 * 9 - 3 = 4.0\n",
            "4 - 2 + 6 / 9 * 3 = 4.0\n",
            "4 - 2 / 6 * 9 + 3 = 4.0\n",
            "4 * 2 - 7 / 1 + 3 = 4.0\n",
            "4 / 2 + 7 - 1 * 5 = 4.0\n",
            "4 / 2 + 7 * 1 - 5 = 4.0\n",
            "4 / 2 - 7 + 1 * 9 = 4.0\n",
            "4 / 2 - 7 * 1 + 9 = 4.0\n",
            "4 * 2 - 7 + 3 / 1 = 4.0\n",
            "4 / 2 + 7 - 5 * 1 = 4.0\n",
            "4 / 2 - 7 + 9 * 1 = 4.0\n",
            "4 * 2 - 7 + 9 / 3 = 4.0\n",
            "4 / 2 + 8 - 1 * 6 = 4.0\n",
            "4 / 2 + 8 * 1 - 6 = 4.0\n",
            "4 * 2 / 8 - 3 + 6 = 4.0\n",
            "4 / 2 + 8 - 6 * 1 = 4.0\n",
            "4 * 2 / 8 + 6 - 3 = 4.0\n",
            "4 * 2 / 8 - 6 + 9 = 4.0\n",
            "4 * 2 / 8 + 9 - 6 = 4.0\n",
            "4 * 2 - 9 / 1 + 5 = 4.0\n",
            "4 / 2 + 9 - 1 * 7 = 4.0\n",
            "4 / 2 + 9 * 1 - 7 = 4.0\n",
            "4 + 2 * 9 / 3 - 6 = 4.0\n",
            "4 - 2 * 9 / 3 + 6 = 4.0\n",
            "4 * 2 + 9 / 3 - 7 = 4.0\n",
            "4 * 2 - 9 + 5 / 1 = 4.0\n",
            "4 + 2 * 9 / 6 - 3 = 4.0\n",
            "4 - 2 * 9 / 6 + 3 = 4.0\n",
            "4 / 2 + 9 - 7 * 1 = 4.0\n",
            "4 + 3 - 1 / 2 * 6 = 4.0\n",
            "4 + 3 / 1 * 2 - 6 = 4.0\n",
            "4 - 3 + 1 / 2 * 6 = 4.0\n",
            "4 - 3 / 1 * 2 + 6 = 4.0\n",
            "4 + 3 - 1 * 6 / 2 = 4.0\n",
            "4 + 3 * 1 - 6 / 2 = 4.0\n",
            "4 - 3 + 1 * 6 / 2 = 4.0\n",
            "4 - 3 * 1 + 6 / 2 = 4.0\n",
            "4 + 3 * 2 / 1 - 6 = 4.0\n",
            "4 - 3 * 2 / 1 + 6 = 4.0\n",
            "4 * 3 / 2 + 5 - 7 = 4.0\n",
            "4 + 3 * 2 - 6 / 1 = 4.0\n",
            "4 + 3 * 2 / 6 - 1 = 4.0\n",
            "4 - 3 * 2 + 6 / 1 = 4.0\n",
            "4 - 3 * 2 / 6 + 1 = 4.0\n",
            "4 * 3 / 2 + 6 - 8 = 4.0\n",
            "4 + 3 - 2 / 6 * 9 = 4.0\n",
            "4 + 3 / 2 * 6 - 9 = 4.0\n",
            "4 - 3 + 2 / 6 * 9 = 4.0\n",
            "4 - 3 / 2 * 6 + 9 = 4.0\n",
            "4 * 3 / 2 - 7 + 5 = 4.0\n",
            "4 * 3 / 2 + 7 - 9 = 4.0\n",
            "4 * 3 / 2 - 8 + 6 = 4.0\n",
            "4 + 3 - 2 * 9 / 6 = 4.0\n",
            "4 - 3 + 2 * 9 / 6 = 4.0\n",
            "4 * 3 / 2 - 9 + 7 = 4.0\n",
            "4 + 3 - 6 * 1 / 2 = 4.0\n",
            "4 - 3 + 6 * 1 / 2 = 4.0\n",
            "4 / 3 * 6 + 1 - 5 = 4.0\n",
            "4 + 3 - 6 / 2 * 1 = 4.0\n",
            "4 + 3 / 6 * 2 - 1 = 4.0\n",
            "4 - 3 + 6 / 2 * 1 = 4.0\n",
            "4 - 3 / 6 * 2 + 1 = 4.0\n",
            "4 + 3 * 6 / 2 - 9 = 4.0\n",
            "4 - 3 * 6 / 2 + 9 = 4.0\n",
            "4 / 3 * 6 - 5 + 1 = 4.0\n",
            "4 * 3 / 6 - 5 + 7 = 4.0\n",
            "4 / 3 * 6 + 5 - 9 = 4.0\n",
            "4 * 3 / 6 + 7 - 5 = 4.0\n",
            "4 * 3 / 6 - 7 + 9 = 4.0\n",
            "4 + 3 * 6 / 9 - 2 = 4.0\n",
            "4 - 3 * 6 / 9 + 2 = 4.0\n",
            "4 / 3 * 6 - 9 + 5 = 4.0\n",
            "4 * 3 / 6 + 9 - 7 = 4.0\n",
            "4 + 3 - 9 * 2 / 6 = 4.0\n",
            "4 - 3 + 9 * 2 / 6 = 4.0\n",
            "4 + 3 - 9 / 6 * 2 = 4.0\n",
            "4 + 3 / 9 * 6 - 2 = 4.0\n",
            "4 - 3 + 9 / 6 * 2 = 4.0\n",
            "4 - 3 / 9 * 6 + 2 = 4.0\n",
            "4 * 5 / 2 + 1 - 7 = 4.0\n",
            "4 * 5 / 2 + 3 - 9 = 4.0\n",
            "4 * 5 / 2 - 7 + 1 = 4.0\n",
            "4 * 5 / 2 - 9 + 3 = 4.0\n",
            "4 + 6 * 1 / 2 - 3 = 4.0\n",
            "4 + 6 / 1 - 2 * 3 = 4.0\n",
            "4 - 6 * 1 / 2 + 3 = 4.0\n",
            "4 - 6 / 1 + 2 * 3 = 4.0\n",
            "4 + 6 * 1 / 3 - 2 = 4.0\n",
            "4 + 6 / 1 - 3 * 2 = 4.0\n",
            "4 - 6 * 1 / 3 + 2 = 4.0\n",
            "4 - 6 / 1 + 3 * 2 = 4.0\n",
            "4 + 6 - 2 / 1 * 3 = 4.0\n",
            "4 + 6 / 2 - 1 * 3 = 4.0\n",
            "4 + 6 / 2 * 1 - 3 = 4.0\n",
            "4 - 6 + 2 / 1 * 3 = 4.0\n",
            "4 - 6 / 2 + 1 * 3 = 4.0\n",
            "4 - 6 / 2 * 1 + 3 = 4.0\n",
            "4 * 6 / 2 + 1 - 9 = 4.0\n",
            "4 + 6 - 2 * 3 / 1 = 4.0\n",
            "4 + 6 / 2 - 3 * 1 = 4.0\n",
            "4 - 6 + 2 * 3 / 1 = 4.0\n",
            "4 - 6 / 2 + 3 * 1 = 4.0\n",
            "4 + 6 - 2 / 3 * 9 = 4.0\n",
            "4 + 6 / 2 * 3 - 9 = 4.0\n",
            "4 - 6 + 2 / 3 * 9 = 4.0\n",
            "4 - 6 / 2 * 3 + 9 = 4.0\n",
            "4 * 6 / 2 - 9 + 1 = 4.0\n",
            "4 + 6 - 2 * 9 / 3 = 4.0\n",
            "4 - 6 + 2 * 9 / 3 = 4.0\n",
            "4 + 6 - 3 / 1 * 2 = 4.0\n",
            "4 + 6 / 3 - 1 * 2 = 4.0\n",
            "4 + 6 / 3 * 1 - 2 = 4.0\n",
            "4 - 6 + 3 / 1 * 2 = 4.0\n",
            "4 - 6 / 3 + 1 * 2 = 4.0\n",
            "4 - 6 / 3 * 1 + 2 = 4.0\n",
            "4 * 6 / 3 + 1 - 5 = 4.0\n",
            "4 + 6 - 3 * 2 / 1 = 4.0\n",
            "4 + 6 / 3 - 2 * 1 = 4.0\n",
            "4 - 6 + 3 * 2 / 1 = 4.0\n",
            "4 - 6 / 3 + 2 * 1 = 4.0\n",
            "4 + 6 * 3 / 2 - 9 = 4.0\n",
            "4 - 6 * 3 / 2 + 9 = 4.0\n",
            "4 * 6 / 3 - 5 + 1 = 4.0\n",
            "4 / 6 * 3 - 5 + 7 = 4.0\n",
            "4 * 6 / 3 + 5 - 9 = 4.0\n",
            "4 / 6 * 3 + 7 - 5 = 4.0\n",
            "4 / 6 * 3 - 7 + 9 = 4.0\n",
            "4 + 6 * 3 / 9 - 2 = 4.0\n",
            "4 - 6 * 3 / 9 + 2 = 4.0\n",
            "4 * 6 / 3 - 9 + 5 = 4.0\n",
            "4 / 6 * 3 + 9 - 7 = 4.0\n",
            "4 * 6 / 8 - 1 + 2 = 4.0\n",
            "4 * 6 / 8 + 2 - 1 = 4.0\n",
            "4 * 6 / 8 - 2 + 3 = 4.0\n",
            "4 * 6 / 8 + 3 - 2 = 4.0\n",
            "4 / 6 * 9 + 1 - 3 = 4.0\n",
            "4 + 6 - 9 * 2 / 3 = 4.0\n",
            "4 - 6 + 9 * 2 / 3 = 4.0\n",
            "4 / 6 * 9 - 3 + 1 = 4.0\n",
            "4 + 6 - 9 / 3 * 2 = 4.0\n",
            "4 + 6 / 9 * 3 - 2 = 4.0\n",
            "4 - 6 + 9 / 3 * 2 = 4.0\n",
            "4 - 6 / 9 * 3 + 2 = 4.0\n",
            "4 / 6 * 9 + 3 - 5 = 4.0\n",
            "4 / 6 * 9 - 5 + 3 = 4.0\n",
            "4 / 6 * 9 + 5 - 7 = 4.0\n",
            "4 / 6 * 9 - 7 + 5 = 4.0\n",
            "4 / 8 * 2 - 3 + 6 = 4.0\n",
            "4 / 8 * 2 + 6 - 3 = 4.0\n",
            "4 / 8 * 2 - 6 + 9 = 4.0\n",
            "4 / 8 * 2 + 9 - 6 = 4.0\n",
            "4 / 8 * 6 - 1 + 2 = 4.0\n",
            "4 / 8 * 6 + 2 - 1 = 4.0\n",
            "4 / 8 * 6 - 2 + 3 = 4.0\n",
            "4 / 8 * 6 + 3 - 2 = 4.0\n",
            "4 + 9 * 2 / 3 - 6 = 4.0\n",
            "4 - 9 * 2 / 3 + 6 = 4.0\n",
            "4 + 9 * 2 / 6 - 3 = 4.0\n",
            "4 - 9 * 2 / 6 + 3 = 4.0\n",
            "4 + 9 - 3 / 2 * 6 = 4.0\n",
            "4 + 9 / 3 * 2 - 6 = 4.0\n",
            "4 - 9 + 3 / 2 * 6 = 4.0\n",
            "4 - 9 / 3 * 2 + 6 = 4.0\n",
            "4 + 9 - 3 * 6 / 2 = 4.0\n",
            "4 - 9 + 3 * 6 / 2 = 4.0\n",
            "4 * 9 / 6 + 1 - 3 = 4.0\n",
            "4 + 9 - 6 / 2 * 3 = 4.0\n",
            "4 + 9 / 6 * 2 - 3 = 4.0\n",
            "4 - 9 + 6 / 2 * 3 = 4.0\n",
            "4 - 9 / 6 * 2 + 3 = 4.0\n",
            "4 * 9 / 6 - 3 + 1 = 4.0\n",
            "4 + 9 - 6 * 3 / 2 = 4.0\n",
            "4 - 9 + 6 * 3 / 2 = 4.0\n",
            "4 * 9 / 6 + 3 - 5 = 4.0\n",
            "4 * 9 / 6 - 5 + 3 = 4.0\n",
            "4 * 9 / 6 + 5 - 7 = 4.0\n",
            "4 * 9 / 6 - 7 + 5 = 4.0\n",
            "5 / 1 + 2 * 3 - 7 = 4.0\n",
            "5 / 1 * 2 + 3 - 9 = 4.0\n",
            "5 + 1 / 2 * 4 - 3 = 4.0\n",
            "5 / 1 - 2 * 4 + 7 = 4.0\n",
            "5 / 1 + 2 * 4 - 9 = 4.0\n",
            "5 + 1 / 2 * 6 - 4 = 4.0\n",
            "5 - 1 / 2 * 8 + 3 = 4.0\n",
            "5 + 1 * 2 - 9 / 3 = 4.0\n",
            "5 * 1 + 2 - 9 / 3 = 4.0\n",
            "5 / 1 * 2 - 9 + 3 = 4.0\n",
            "5 / 1 + 3 * 2 - 7 = 4.0\n",
            "5 - 1 * 3 + 4 / 2 = 4.0\n",
            "5 * 1 - 3 + 4 / 2 = 4.0\n",
            "5 + 1 - 3 * 4 / 6 = 4.0\n",
            "5 + 1 - 3 / 6 * 4 = 4.0\n",
            "5 + 1 - 3 * 6 / 9 = 4.0\n",
            "5 + 1 * 3 - 8 / 2 = 4.0\n",
            "5 * 1 + 3 - 8 / 2 = 4.0\n",
            "5 - 1 * 3 + 8 / 4 = 4.0\n",
            "5 * 1 - 3 + 8 / 4 = 4.0\n",
            "5 - 1 / 3 * 9 + 2 = 4.0\n",
            "5 + 1 / 3 * 9 - 4 = 4.0\n",
            "5 + 1 - 3 / 9 * 6 = 4.0\n",
            "5 + 1 * 4 / 2 - 3 = 4.0\n",
            "5 * 1 + 4 / 2 - 3 = 4.0\n",
            "5 / 1 - 4 * 2 + 7 = 4.0\n",
            "5 / 1 + 4 * 2 - 9 = 4.0\n",
            "5 + 1 - 4 * 3 / 6 = 4.0\n",
            "5 - 1 * 4 + 6 / 2 = 4.0\n",
            "5 * 1 - 4 + 6 / 2 = 4.0\n",
            "5 + 1 - 4 / 6 * 3 = 4.0\n",
            "5 + 1 / 4 * 8 - 3 = 4.0\n",
            "5 - 1 * 4 + 9 / 3 = 4.0\n",
            "5 * 1 - 4 + 9 / 3 = 4.0\n",
            "5 + 1 * 6 / 2 - 4 = 4.0\n",
            "5 * 1 + 6 / 2 - 4 = 4.0\n",
            "5 + 1 - 6 * 3 / 9 = 4.0\n",
            "5 + 1 - 6 / 9 * 3 = 4.0\n",
            "5 / 1 - 7 + 2 * 3 = 4.0\n",
            "5 / 1 + 7 - 2 * 4 = 4.0\n",
            "5 / 1 - 7 + 3 * 2 = 4.0\n",
            "5 / 1 + 7 - 4 * 2 = 4.0\n",
            "5 - 1 * 8 / 2 + 3 = 4.0\n",
            "5 * 1 - 8 / 2 + 3 = 4.0\n",
            "5 + 1 * 8 / 4 - 3 = 4.0\n",
            "5 * 1 + 8 / 4 - 3 = 4.0\n",
            "5 / 1 - 9 + 2 * 4 = 4.0\n",
            "5 - 1 * 9 / 3 + 2 = 4.0\n",
            "5 * 1 - 9 / 3 + 2 = 4.0\n",
            "5 + 1 * 9 / 3 - 4 = 4.0\n",
            "5 * 1 + 9 / 3 - 4 = 4.0\n",
            "5 / 1 - 9 + 4 * 2 = 4.0\n",
            "5 + 2 / 1 * 3 - 7 = 4.0\n",
            "5 + 2 - 1 / 3 * 9 = 4.0\n",
            "5 * 2 / 1 + 3 - 9 = 4.0\n",
            "5 - 2 / 1 * 4 + 7 = 4.0\n",
            "5 + 2 / 1 * 4 - 9 = 4.0\n",
            "5 + 2 - 1 * 9 / 3 = 4.0\n",
            "5 + 2 * 1 - 9 / 3 = 4.0\n",
            "5 * 2 / 1 - 9 + 3 = 4.0\n",
            "5 + 2 * 3 / 1 - 7 = 4.0\n",
            "5 * 2 + 3 / 1 - 9 = 4.0\n",
            "5 + 2 * 3 - 7 / 1 = 4.0\n",
            "5 * 2 + 3 - 9 / 1 = 4.0\n",
            "5 + 2 / 3 * 9 - 7 = 4.0\n",
            "5 - 2 * 4 / 1 + 7 = 4.0\n",
            "5 / 2 * 4 + 1 - 7 = 4.0\n",
            "5 + 2 * 4 / 1 - 9 = 4.0\n",
            "5 / 2 * 4 + 3 - 9 = 4.0\n",
            "5 + 2 - 4 * 6 / 8 = 4.0\n",
            "5 - 2 * 4 + 7 / 1 = 4.0\n",
            "5 / 2 * 4 - 7 + 1 = 4.0\n",
            "5 - 2 / 4 * 8 + 3 = 4.0\n",
            "5 + 2 - 4 / 8 * 6 = 4.0\n",
            "5 + 2 * 4 - 9 / 1 = 4.0\n",
            "5 / 2 * 4 - 9 + 3 = 4.0\n",
            "5 * 2 + 6 / 3 - 8 = 4.0\n",
            "5 + 2 - 6 * 4 / 8 = 4.0\n",
            "5 + 2 - 6 / 8 * 4 = 4.0\n",
            "5 + 2 / 6 * 9 - 4 = 4.0\n",
            "5 - 2 * 8 / 4 + 3 = 4.0\n",
            "5 * 2 - 8 + 6 / 3 = 4.0\n",
            "5 + 2 - 9 * 1 / 3 = 4.0\n",
            "5 * 2 - 9 / 1 + 3 = 4.0\n",
            "5 + 2 - 9 / 3 * 1 = 4.0\n",
            "5 * 2 - 9 + 3 / 1 = 4.0\n",
            "5 + 2 * 9 / 3 - 7 = 4.0\n",
            "5 + 2 * 9 / 6 - 4 = 4.0\n",
            "5 - 3 + 1 / 2 * 4 = 4.0\n",
            "5 + 3 / 1 * 2 - 7 = 4.0\n",
            "5 + 3 - 1 / 2 * 8 = 4.0\n",
            "5 - 3 + 1 * 4 / 2 = 4.0\n",
            "5 - 3 * 1 + 4 / 2 = 4.0\n",
            "5 - 3 + 1 / 4 * 8 = 4.0\n",
            "5 + 3 - 1 * 8 / 2 = 4.0\n",
            "5 + 3 * 1 - 8 / 2 = 4.0\n",
            "5 - 3 + 1 * 8 / 4 = 4.0\n",
            "5 - 3 * 1 + 8 / 4 = 4.0\n",
            "5 + 3 * 2 / 1 - 7 = 4.0\n",
            "5 + 3 / 2 * 4 - 7 = 4.0\n",
            "5 + 3 - 2 / 4 * 8 = 4.0\n",
            "5 - 3 / 2 * 6 + 8 = 4.0\n",
            "5 + 3 * 2 - 7 / 1 = 4.0\n",
            "5 + 3 - 2 * 8 / 4 = 4.0\n",
            "5 - 3 + 4 * 1 / 2 = 4.0\n",
            "5 - 3 + 4 / 2 * 1 = 4.0\n",
            "5 + 3 * 4 / 2 - 7 = 4.0\n",
            "5 - 3 * 4 / 6 + 1 = 4.0\n",
            "5 + 3 / 4 * 8 - 7 = 4.0\n",
            "5 / 3 * 6 + 1 - 7 = 4.0\n",
            "5 - 3 * 6 / 2 + 8 = 4.0\n",
            "5 / 3 * 6 + 2 - 8 = 4.0\n",
            "Búsqueda interrumpida.\n"
          ]
        }
      ],
      "source": [
        "def encontrar_expresion(objetivo,cifras,ops):\n",
        "    for d1 in cifras:\n",
        "        for d2 in cifras:\n",
        "            if d2 == d1:\n",
        "                continue\n",
        "            for d3 in cifras:\n",
        "                if d3 == d1 or d3 == d2:\n",
        "                    continue\n",
        "                for d4 in cifras:\n",
        "                    if d4 == d1 or d4 == d2 or d4 == d3:\n",
        "                        continue\n",
        "                    for d5 in cifras:\n",
        "                        if d5 == d1 or d5 == d2 or d5 == d3 or d5 == d4:\n",
        "                            continue\n",
        "                        for op1 in ops:\n",
        "                            for op2 in ops:\n",
        "                                if op1 == op2:\n",
        "                                    continue\n",
        "                                for op3 in ops:\n",
        "                                    if op3 == op1 or op3 == op2:\n",
        "                                        continue\n",
        "                                    for op4 in ops:\n",
        "                                        if op4 == op1 or op4 == op2 or op4 == op3:\n",
        "                                            continue\n",
        "                                        expr = f'{d1} {op1} {d2} {op2} {d3} {op3} {d4} {op4} {d5}'\n",
        "                                        try:\n",
        "                                            result = round(eval(expr),3)\n",
        "                                            if result == objetivo:\n",
        "                                                print(f'{expr} = {result}')\n",
        "                                            #    return expr\n",
        "                                        except ZeroDivisionError:\n",
        "                                            pass\n",
        "    return None\n",
        "try:\n",
        "    encontrar_expresion(4,cifras,ops)\n",
        "except KeyboardInterrupt:\n",
        "    print(\"Búsqueda interrumpida.\")"
      ]
    },
    {
      "cell_type": "markdown",
      "metadata": {
        "id": "LSN1_e9YYleh"
      },
      "source": [
        "### Calcula la complejidad del algoritmo por fuerza bruta SIN RESTRICCIONES\n",
        "\n",
        "\n",
        "\n",
        "Con las restricciones de no repetición las soluciones se pueden calcular como  n * (n-1) * (n-2) * (n-3) * (n-4) * m * (m-1) * (m-2)* (m-3)\n",
        "9*8*7*6*5*4*3*2*1 = 9! = 362880\n",
        "\n",
        "\n",
        "Por lo tanto tiene orden:\n",
        "- O(n!) o O(m!) según cuál crezca más\n"
      ]
    },
    {
      "cell_type": "markdown",
      "metadata": {
        "id": "e7yYP2S5O2ye"
      },
      "source": [
        "### Máximo y mínimo valor posibles sin restricciones"
      ]
    },
    {
      "cell_type": "code",
      "execution_count": 32,
      "metadata": {
        "colab": {
          "base_uri": "https://localhost:8080/"
        },
        "id": "9chtHXM0PuVG",
        "outputId": "355d4c12-9eeb-4178-d161-63be2ea9d8f2"
      },
      "outputs": [
        {
          "output_type": "stream",
          "name": "stdout",
          "text": [
            "1 - 9 * 9 * 9 * 9 = -6560\n",
            "9 * 9 * 9 * 9 * 9 = 59049\n"
          ]
        }
      ],
      "source": [
        "cifras = [1, 2, 3, 4, 5, 6, 7, 8, 9]\n",
        "ops = ['+', '-', '*', '/']\n",
        "count = 0\n",
        "min_result=0\n",
        "max_result=0\n",
        "\n",
        "for d1 in cifras:\n",
        "    for d2 in cifras:\n",
        "        for d3 in cifras:\n",
        "            for d4 in cifras:\n",
        "                for d5 in cifras:\n",
        "                    for op1 in ops:\n",
        "                        for op2 in ops:\n",
        "                            for op3 in ops:\n",
        "                                for op4 in ops:\n",
        "                                    expr = f'{d1} {op1} {d2} {op2} {d3} {op3} {d4} {op4} {d5}'\n",
        "                                    result = round(eval(expr),3)\n",
        "                                    if result <= min_result:\n",
        "                                        expr_min = expr\n",
        "                                        min_result=result\n",
        "                                    if result >= max_result:\n",
        "                                        expr_max = expr\n",
        "                                        max_result=result\n",
        "print(f'{expr_min} = {min_result}')\n",
        "print(f'{expr_max} = {max_result}')"
      ]
    },
    {
      "cell_type": "markdown",
      "metadata": {
        "id": "4p9LlsXTPuth"
      },
      "source": [
        "### Máximo y mínimo valor posible con restricciones"
      ]
    },
    {
      "cell_type": "code",
      "execution_count": 33,
      "metadata": {
        "colab": {
          "base_uri": "https://localhost:8080/"
        },
        "id": "8Bh8iXMxO6J0",
        "outputId": "d36b0fe5-ad36-4788-a04e-50e36aabac08"
      },
      "outputs": [
        {
          "output_type": "stream",
          "name": "stdout",
          "text": [
            "2 / 7 - 9 * 8 + 1 = -70.714\n",
            "9 * 8 + 7 - 1 / 6 = 78.833\n"
          ]
        }
      ],
      "source": [
        "cifras = [1, 2, 3, 4, 5, 6, 7, 8, 9]\n",
        "ops = ['+', '-', '*', '/']\n",
        "count = 0\n",
        "min_result=0\n",
        "max_result=0\n",
        "\n",
        "for d1 in cifras:\n",
        "    for d2 in cifras:\n",
        "        if d2 == d1:\n",
        "            continue\n",
        "        for d3 in cifras:\n",
        "            if d3 == d1 or d3 == d2:\n",
        "                continue\n",
        "            for d4 in cifras:\n",
        "                if d4 == d1 or d4 == d2 or d4 == d3:\n",
        "                    continue\n",
        "                for d5 in cifras:\n",
        "                    if d5 == d1 or d5 == d2 or d5 == d3 or d5 == d4:\n",
        "                        continue\n",
        "                    for op1 in ops:\n",
        "                        for op2 in ops:\n",
        "                            if op1 == op2:\n",
        "                                continue\n",
        "                            for op3 in ops:\n",
        "                                if op3 == op1 or op3 == op2:\n",
        "                                    continue\n",
        "                                for op4 in ops:\n",
        "                                    if op4 == op1 or op4 == op2 or op4 == op3:\n",
        "                                        continue\n",
        "                                    expr = f'{d1} {op1} {d2} {op2} {d3} {op3} {d4} {op4} {d5}'\n",
        "                                    result = round(eval(expr),3)\n",
        "                                    if result <= min_result:\n",
        "                                        expr_min = expr\n",
        "                                        min_result=result\n",
        "                                    if result >= max_result:\n",
        "                                        expr_max = expr\n",
        "                                        max_result=result\n",
        "print(f'{expr_min} = {min_result}')\n",
        "print(f'{expr_max} = {max_result}')\n",
        "\n"
      ]
    },
    {
      "cell_type": "markdown",
      "metadata": {
        "id": "v7UpBgYoPAKH"
      },
      "source": [
        "Para entender por qué esos son el mínimo y el máximo, se puede analizar el problema matemáticamente.\n",
        "En general, el valor mínimo se obtiene cuando se utilizan los números más pequeños para restar o dividir entre sí y luego se suman o multiplican con los números más grandes.\n",
        "Por otro lado, el valor máximo se obtiene cuando se utilizan los números más grandes para sumar o multiplicar entre sí y luego se restan o dividen con los números más pequeños\n"
      ]
    }
  ],
  "metadata": {
    "colab": {
      "provenance": [],
      "toc_visible": true,
      "include_colab_link": true
    },
    "kernelspec": {
      "display_name": "Python 3",
      "name": "python3"
    },
    "language_info": {
      "codemirror_mode": {
        "name": "ipython",
        "version": 3
      },
      "file_extension": ".py",
      "mimetype": "text/x-python",
      "name": "python",
      "nbconvert_exporter": "python",
      "pygments_lexer": "ipython3",
      "version": "3.10.9"
    }
  },
  "nbformat": 4,
  "nbformat_minor": 0
}